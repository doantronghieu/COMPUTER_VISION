{
  "nbformat": 4,
  "nbformat_minor": 0,
  "metadata": {
    "colab": {
      "name": "ResNet_Fruits.ipynb",
      "provenance": [],
      "authorship_tag": "ABX9TyNFpLU3Xy/FyyVSTxnLP9oM",
      "include_colab_link": true
    },
    "kernelspec": {
      "name": "python3",
      "display_name": "Python 3"
    },
    "language_info": {
      "name": "python"
    },
    "accelerator": "GPU"
  },
  "cells": [
    {
      "cell_type": "markdown",
      "metadata": {
        "id": "view-in-github",
        "colab_type": "text"
      },
      "source": [
        "<a href=\"https://colab.research.google.com/github/tronghieu2810/COMPUTER_VISION/blob/main/ResNet_Fruits.ipynb\" target=\"_parent\"><img src=\"https://colab.research.google.com/assets/colab-badge.svg\" alt=\"Open In Colab\"/></a>"
      ]
    },
    {
      "cell_type": "code",
      "execution_count": 1,
      "metadata": {
        "id": "pn7V5lBz-Eev"
      },
      "outputs": [],
      "source": [
        "from tensorflow.keras.layers import Input, Lambda, Dense, Flatten\n",
        "from tensorflow.keras.models import Model\n",
        "from tensorflow.keras.applications.resnet50 import ResNet50, preprocess_input\n",
        "from tensorflow.keras.preprocessing import image\n",
        "from tensorflow.keras.preprocessing.image import ImageDataGenerator\n",
        "\n",
        "from sklearn.metrics import confusion_matrix\n",
        "import numpy as np\n",
        "import matplotlib.pyplot as plt\n",
        "\n",
        "from glob import glob\n",
        "import itertools"
      ]
    },
    {
      "cell_type": "code",
      "source": [
        "# Resize all images to this\n",
        "IMAGE_SIZE = [100, 100]\n",
        "\n",
        "# Training config\n",
        "epochs     = 16\n",
        "batch_size = 128"
      ],
      "metadata": {
        "id": "914ItRA4_TA-"
      },
      "execution_count": 2,
      "outputs": []
    },
    {
      "cell_type": "code",
      "source": [
        "!wget -nc https://lazyprogrammer.me/course_files/fruits-360.zip"
      ],
      "metadata": {
        "colab": {
          "base_uri": "https://localhost:8080/"
        },
        "id": "H5F5Iv7d_x8L",
        "outputId": "02791175-3bf6-4da7-80e3-b590f83a17a0"
      },
      "execution_count": 3,
      "outputs": [
        {
          "output_type": "stream",
          "name": "stdout",
          "text": [
            "--2022-03-16 11:16:47--  https://lazyprogrammer.me/course_files/fruits-360.zip\n",
            "Resolving lazyprogrammer.me (lazyprogrammer.me)... 104.21.23.210, 172.67.213.166, 2606:4700:3031::6815:17d2, ...\n",
            "Connecting to lazyprogrammer.me (lazyprogrammer.me)|104.21.23.210|:443... connected.\n",
            "HTTP request sent, awaiting response... 200 OK\n",
            "Length: 190820824 (182M) [application/zip]\n",
            "Saving to: ‘fruits-360.zip’\n",
            "\n",
            "fruits-360.zip      100%[===================>] 181.98M  20.7MB/s    in 9.5s    \n",
            "\n",
            "2022-03-16 11:16:57 (19.1 MB/s) - ‘fruits-360.zip’ saved [190820824/190820824]\n",
            "\n"
          ]
        }
      ]
    },
    {
      "cell_type": "code",
      "source": [
        "!unzip -nq fruits-360.zip"
      ],
      "metadata": {
        "id": "2VUjSv7kAJJA"
      },
      "execution_count": 4,
      "outputs": []
    },
    {
      "cell_type": "code",
      "source": [
        "train_path = 'fruits-360/Training'\n",
        "valid_path = 'fruits-360/Validation'"
      ],
      "metadata": {
        "id": "qOzd9jg1AJq6"
      },
      "execution_count": 5,
      "outputs": []
    },
    {
      "cell_type": "code",
      "source": [
        "# Useful for getting number of files\n",
        "image_files       = glob(train_path + '/*/*.jp*g')\n",
        "valid_image_files = glob(valid_path + '/*/*.jp*g')"
      ],
      "metadata": {
        "id": "C4ea4L5icmWz"
      },
      "execution_count": null,
      "outputs": []
    }
  ]
}