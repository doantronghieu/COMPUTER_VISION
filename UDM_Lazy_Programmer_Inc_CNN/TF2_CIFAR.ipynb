{
 "cells": [
  {
   "cell_type": "code",
   "execution_count": 1,
   "metadata": {},
   "outputs": [],
   "source": [
    "import tensorflow as tf\n",
    "import numpy as np\n",
    "import matplotlib.pyplot as plt\n",
    "from tensorflow.keras.layers import Input, Conv2D, Dense, Flatten, Dropout, GlobalAveragePooling2D\n",
    "from tensorflow.keras.models import Model"
   ]
  },
  {
   "cell_type": "code",
   "execution_count": 2,
   "metadata": {},
   "outputs": [
    {
     "name": "stdout",
     "output_type": "stream",
     "text": [
      "Downloading data from https://www.cs.toronto.edu/~kriz/cifar-10-python.tar.gz\n",
      "170500096/170498071 [==============================] - 73s 0us/step\n",
      "170508288/170498071 [==============================] - 73s 0us/step\n",
      "x_train: (50000, 32, 32, 3)\n",
      "y_train: (10000,)\n"
     ]
    }
   ],
   "source": [
    "# Load in the data\n",
    "cifar10 = tf.keras.datasets.cifar10\n",
    "\n",
    "(x_train, y_train), (x_test, y_test) = cifar10.load_data()\n",
    "x_train = x_train / 255.0\n",
    "x_test  = x_test  / 255.0\n",
    "y_train = y_train.flatten()\n",
    "y_test  = y_test .flatten()"
   ]
  },
  {
   "cell_type": "code",
   "execution_count": 4,
   "metadata": {},
   "outputs": [
    {
     "name": "stdout",
     "output_type": "stream",
     "text": [
      "x_train: (50000, 32, 32, 3)\n",
      "y_train: (50000,)\n"
     ]
    }
   ],
   "source": [
    "print(f'x_train: {x_train.shape}')\n",
    "print(f'y_train: {y_train.shape}')"
   ]
  },
  {
   "cell_type": "code",
   "execution_count": 3,
   "metadata": {},
   "outputs": [
    {
     "name": "stdout",
     "output_type": "stream",
     "text": [
      "Number of classes: 10\n"
     ]
    }
   ],
   "source": [
    "K = len(set(y_train))\n",
    "print(f'Number of classes: {K}')"
   ]
  },
  {
   "cell_type": "code",
   "execution_count": 5,
   "metadata": {},
   "outputs": [
    {
     "name": "stdout",
     "output_type": "stream",
     "text": [
      "Epoch 1/15\n",
      "1563/1563 [==============================] - 31s 20ms/step - loss: 1.5723 - accuracy: 0.4269 - val_loss: 1.3904 - val_accuracy: 0.4960\n",
      "Epoch 2/15\n",
      "1563/1563 [==============================] - 31s 20ms/step - loss: 1.2962 - accuracy: 0.5309 - val_loss: 1.1850 - val_accuracy: 0.5717\n",
      "Epoch 3/15\n",
      "1563/1563 [==============================] - 31s 20ms/step - loss: 1.1573 - accuracy: 0.5881 - val_loss: 1.0876 - val_accuracy: 0.6124\n",
      "Epoch 4/15\n",
      "1563/1563 [==============================] - 26s 16ms/step - loss: 1.0641 - accuracy: 0.6190 - val_loss: 0.9675 - val_accuracy: 0.6583\n",
      "Epoch 5/15\n",
      "1563/1563 [==============================] - 28s 18ms/step - loss: 0.9854 - accuracy: 0.6486 - val_loss: 0.9464 - val_accuracy: 0.6692\n",
      "Epoch 6/15\n",
      "1563/1563 [==============================] - 31s 20ms/step - loss: 0.9291 - accuracy: 0.6692 - val_loss: 0.8998 - val_accuracy: 0.6884\n",
      "Epoch 7/15\n",
      "1563/1563 [==============================] - 33s 21ms/step - loss: 0.8772 - accuracy: 0.6881 - val_loss: 0.8828 - val_accuracy: 0.6980\n",
      "Epoch 8/15\n",
      "1563/1563 [==============================] - 36s 23ms/step - loss: 0.8298 - accuracy: 0.7043 - val_loss: 0.8886 - val_accuracy: 0.6865\n",
      "Epoch 9/15\n",
      "1563/1563 [==============================] - 35s 22ms/step - loss: 0.7956 - accuracy: 0.7172 - val_loss: 0.8655 - val_accuracy: 0.6988\n",
      "Epoch 10/15\n",
      "1563/1563 [==============================] - 22s 14ms/step - loss: 0.7542 - accuracy: 0.7327 - val_loss: 0.8219 - val_accuracy: 0.7129\n",
      "Epoch 11/15\n",
      "1563/1563 [==============================] - 23s 15ms/step - loss: 0.7276 - accuracy: 0.7409 - val_loss: 0.8474 - val_accuracy: 0.7039\n",
      "Epoch 12/15\n",
      "1563/1563 [==============================] - 22s 14ms/step - loss: 0.6961 - accuracy: 0.7530 - val_loss: 0.8206 - val_accuracy: 0.7166\n",
      "Epoch 13/15\n",
      "1563/1563 [==============================] - 22s 14ms/step - loss: 0.6711 - accuracy: 0.7612 - val_loss: 0.8195 - val_accuracy: 0.7138\n",
      "Epoch 14/15\n",
      "1563/1563 [==============================] - 23s 14ms/step - loss: 0.6528 - accuracy: 0.7686 - val_loss: 0.8250 - val_accuracy: 0.7134\n",
      "Epoch 15/15\n",
      "1563/1563 [==============================] - 22s 14ms/step - loss: 0.6351 - accuracy: 0.7757 - val_loss: 0.7925 - val_accuracy: 0.7270\n"
     ]
    }
   ],
   "source": [
    "# Build the model using the Functional API\n",
    "i = Input(shape=x_train[0].shape)\n",
    "x = Conv2D(filters=32,  kernel_size=(3, 3), strides=2, activation='relu')(i)\n",
    "x = Conv2D(filters=64,  kernel_size=(3, 3), strides=2, activation='relu')(x)\n",
    "x = Conv2D(filters=128, kernel_size=(3, 3), strides=2, activation='relu')(x)\n",
    "x = Flatten()(x)\n",
    "x = Dropout(rate=0.5)(x)\n",
    "x = Dense(units=1024, activation='relu')(x)\n",
    "x = Dropout(rate=0.2)(x)\n",
    "x = Dense(units=K,    activation='softmax')(x)\n",
    "\n",
    "model = Model(i, x)\n",
    "\n",
    "# Compile and fit\n",
    "model.compile(  optimizer='adam',\n",
    "                loss='sparse_categorical_crossentropy',\n",
    "                metrics=['accuracy'])\n",
    "r = model.fit(x_train, y_train, validation_data=(x_test, y_test), epochs=15)"
   ]
  },
  {
   "cell_type": "code",
   "execution_count": 7,
   "metadata": {},
   "outputs": [
    {
     "data": {
      "text/plain": [
       "<matplotlib.legend.Legend at 0x2940e14de80>"
      ]
     },
     "execution_count": 7,
     "metadata": {},
     "output_type": "execute_result"
    },
    {
     "data": {
      "image/png": "[encoded data removed]",
      "text/plain": [
       "<Figure size 432x288 with 1 Axes>"
      ]
     },
     "metadata": {
      "needs_background": "light"
     },
     "output_type": "display_data"
    }
   ],
   "source": [
    "# Loss per iteration\n",
    "import matplotlib.pyplot as plt\n",
    "\n",
    "plt.plot(r.history['loss'], label='loss')\n",
    "plt.plot(r.history['val_loss'], label='val_loss')\n",
    "plt.legend()"
   ]
  },
  {
   "cell_type": "code",
   "execution_count": 8,
   "metadata": {},
   "outputs": [
    {
     "data": {
      "text/plain": [
       "<matplotlib.legend.Legend at 0x2940df89070>"
      ]
     },
     "execution_count": 8,
     "metadata": {},
     "output_type": "execute_result"
    },
    {
     "data": {
      "image/png": "[encoded data removed]",
      "text/plain": [
       "<Figure size 432x288 with 1 Axes>"
      ]
     },
     "metadata": {
      "needs_background": "light"
     },
     "output_type": "display_data"
    }
   ],
   "source": [
    "# Accuracy per iteration\n",
    "plt.plot(r.history['accuracy'], label='acc')\n",
    "plt.plot(r.history['val_accuracy'], label='val_acc')\n",
    "plt.legend()"
   ]
  }
 ],
 "metadata": {
  "interpreter": {
   "hash": "ee5cc6fef2d70a7e71ee3826687cbd150f18158e0b1eef11d4f4f92bb920e304"
  },
  "kernelspec": {
   "display_name": "Python 3.9.7 64-bit",
   "language": "python",
   "name": "python3"
  },
  "language_info": {
   "codemirror_mode": {
    "name": "ipython",
    "version": 3
   },
   "file_extension": ".py",
   "mimetype": "text/x-python",
   "name": "python",
   "nbconvert_exporter": "python",
   "pygments_lexer": "ipython3",
   "version": "3.9.7"
  },
  "orig_nbformat": 4
 },
 "nbformat": 4,
 "nbformat_minor": 2
}
