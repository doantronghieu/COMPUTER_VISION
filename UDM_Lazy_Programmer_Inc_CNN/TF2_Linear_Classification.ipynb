{
 "cells": [
  {
   "cell_type": "code",
   "execution_count": 1,
   "metadata": {},
   "outputs": [],
   "source": [
    "import tensorflow as tf\n",
    "from sklearn.datasets import load_breast_cancer"
   ]
  },
  {
   "cell_type": "code",
   "execution_count": 2,
   "metadata": {},
   "outputs": [
    {
     "name": "stdout",
     "output_type": "stream",
     "text": [
      "2.7.0\n"
     ]
    }
   ],
   "source": [
    "print(tf.__version__)"
   ]
  },
  {
   "cell_type": "code",
   "execution_count": 3,
   "metadata": {},
   "outputs": [
    {
     "data": {
      "text/plain": [
       "sklearn.utils.Bunch"
      ]
     },
     "execution_count": 3,
     "metadata": {},
     "output_type": "execute_result"
    }
   ],
   "source": [
    "# Load the data\n",
    "data = load_breast_cancer()\n",
    "# Check the type of 'data'\n",
    "type(data)"
   ]
  },
  {
   "cell_type": "code",
   "execution_count": 4,
   "metadata": {},
   "outputs": [
    {
     "data": {
      "text/plain": [
       "dict_keys(['data', 'target', 'frame', 'target_names', 'DESCR', 'feature_names', 'filename', 'data_module'])"
      ]
     },
     "execution_count": 4,
     "metadata": {},
     "output_type": "execute_result"
    }
   ],
   "source": [
    "# Bunch object acts like a dict where we can treat the keys like attributes\n",
    "data.keys()"
   ]
  },
  {
   "cell_type": "code",
   "execution_count": 5,
   "metadata": {},
   "outputs": [
    {
     "data": {
      "text/plain": [
       "(569, 30)"
      ]
     },
     "execution_count": 5,
     "metadata": {},
     "output_type": "execute_result"
    }
   ],
   "source": [
    "# the attribute 'data' means the input data\n",
    "data.data.shape # 569 samples, 30 features"
   ]
  },
  {
   "cell_type": "code",
   "execution_count": 6,
   "metadata": {},
   "outputs": [
    {
     "data": {
      "text/plain": [
       "array([0, 0, 0, 0, 0, 0, 0, 0, 0, 0, 0, 0, 0, 0, 0, 0, 0, 0, 0, 1, 1, 1,\n",
       "       0, 0, 0, 0, 0, 0, 0, 0, 0, 0, 0, 0, 0, 0, 0, 1, 0, 0, 0, 0, 0, 0,\n",
       "       0, 0, 1, 0, 1, 1, 1, 1, 1, 0, 0, 1, 0, 0, 1, 1, 1, 1, 0, 1, 0, 0,\n",
       "       1, 1, 1, 1, 0, 1, 0, 0, 1, 0, 1, 0, 0, 1, 1, 1, 0, 0, 1, 0, 0, 0,\n",
       "       1, 1, 1, 0, 1, 1, 0, 0, 1, 1, 1, 0, 0, 1, 1, 1, 1, 0, 1, 1, 0, 1,\n",
       "       1, 1, 1, 1, 1, 1, 1, 0, 0, 0, 1, 0, 0, 1, 1, 1, 0, 0, 1, 0, 1, 0,\n",
       "       0, 1, 0, 0, 1, 1, 0, 1, 1, 0, 1, 1, 1, 1, 0, 1, 1, 1, 1, 1, 1, 1,\n",
       "       1, 1, 0, 1, 1, 1, 1, 0, 0, 1, 0, 1, 1, 0, 0, 1, 1, 0, 0, 1, 1, 1,\n",
       "       1, 0, 1, 1, 0, 0, 0, 1, 0, 1, 0, 1, 1, 1, 0, 1, 1, 0, 0, 1, 0, 0,\n",
       "       0, 0, 1, 0, 0, 0, 1, 0, 1, 0, 1, 1, 0, 1, 0, 0, 0, 0, 1, 1, 0, 0,\n",
       "       1, 1, 1, 0, 1, 1, 1, 1, 1, 0, 0, 1, 1, 0, 1, 1, 0, 0, 1, 0, 1, 1,\n",
       "       1, 1, 0, 1, 1, 1, 1, 1, 0, 1, 0, 0, 0, 0, 0, 0, 0, 0, 0, 0, 0, 0,\n",
       "       0, 0, 1, 1, 1, 1, 1, 1, 0, 1, 0, 1, 1, 0, 1, 1, 0, 1, 0, 0, 1, 1,\n",
       "       1, 1, 1, 1, 1, 1, 1, 1, 1, 1, 1, 0, 1, 1, 0, 1, 0, 1, 1, 1, 1, 1,\n",
       "       1, 1, 1, 1, 1, 1, 1, 1, 1, 0, 1, 1, 1, 0, 1, 0, 1, 1, 1, 1, 0, 0,\n",
       "       0, 1, 1, 1, 1, 0, 1, 0, 1, 0, 1, 1, 1, 0, 1, 1, 1, 1, 1, 1, 1, 0,\n",
       "       0, 0, 1, 1, 1, 1, 1, 1, 1, 1, 1, 1, 1, 0, 0, 1, 0, 0, 0, 1, 0, 0,\n",
       "       1, 1, 1, 1, 1, 0, 1, 1, 1, 1, 1, 0, 1, 1, 1, 0, 1, 1, 0, 0, 1, 1,\n",
       "       1, 1, 1, 1, 0, 1, 1, 1, 1, 1, 1, 1, 0, 1, 1, 1, 1, 1, 0, 1, 1, 0,\n",
       "       1, 1, 1, 1, 1, 1, 1, 1, 1, 1, 1, 1, 0, 1, 0, 0, 1, 0, 1, 1, 1, 1,\n",
       "       1, 0, 1, 1, 0, 1, 0, 1, 1, 0, 1, 0, 1, 1, 1, 1, 1, 1, 1, 1, 0, 0,\n",
       "       1, 1, 1, 1, 1, 1, 0, 1, 1, 1, 1, 1, 1, 1, 1, 1, 1, 0, 1, 1, 1, 1,\n",
       "       1, 1, 1, 0, 1, 0, 1, 1, 0, 1, 1, 1, 1, 1, 0, 0, 1, 0, 1, 0, 1, 1,\n",
       "       1, 1, 1, 0, 1, 1, 0, 1, 0, 1, 0, 0, 1, 1, 1, 0, 1, 1, 1, 1, 1, 1,\n",
       "       1, 1, 1, 1, 1, 0, 1, 0, 0, 1, 1, 1, 1, 1, 1, 1, 1, 1, 1, 1, 1, 1,\n",
       "       1, 1, 1, 1, 1, 1, 1, 1, 1, 1, 1, 1, 0, 0, 0, 0, 0, 0, 1])"
      ]
     },
     "execution_count": 6,
     "metadata": {},
     "output_type": "execute_result"
    }
   ],
   "source": [
    "data.target\n",
    "# When you have K targets, they are labeled 0 -> K - 1"
   ]
  },
  {
   "cell_type": "code",
   "execution_count": 7,
   "metadata": {},
   "outputs": [
    {
     "data": {
      "text/plain": [
       "array(['malignant', 'benign'], dtype='<U9')"
      ]
     },
     "execution_count": 7,
     "metadata": {},
     "output_type": "execute_result"
    }
   ],
   "source": [
    "data.target_names # Not lost"
   ]
  },
  {
   "cell_type": "code",
   "execution_count": 8,
   "metadata": {},
   "outputs": [
    {
     "data": {
      "text/plain": [
       "(569,)"
      ]
     },
     "execution_count": 8,
     "metadata": {},
     "output_type": "execute_result"
    }
   ],
   "source": [
    "data.target.shape"
   ]
  },
  {
   "cell_type": "code",
   "execution_count": 9,
   "metadata": {},
   "outputs": [
    {
     "data": {
      "text/plain": [
       "array(['mean radius', 'mean texture', 'mean perimeter', 'mean area',\n",
       "       'mean smoothness', 'mean compactness', 'mean concavity',\n",
       "       'mean concave points', 'mean symmetry', 'mean fractal dimension',\n",
       "       'radius error', 'texture error', 'perimeter error', 'area error',\n",
       "       'smoothness error', 'compactness error', 'concavity error',\n",
       "       'concave points error', 'symmetry error',\n",
       "       'fractal dimension error', 'worst radius', 'worst texture',\n",
       "       'worst perimeter', 'worst area', 'worst smoothness',\n",
       "       'worst compactness', 'worst concavity', 'worst concave points',\n",
       "       'worst symmetry', 'worst fractal dimension'], dtype='<U23')"
      ]
     },
     "execution_count": 9,
     "metadata": {},
     "output_type": "execute_result"
    }
   ],
   "source": [
    "# Meaning of each feature\n",
    "data.feature_names"
   ]
  },
  {
   "cell_type": "code",
   "execution_count": 10,
   "metadata": {},
   "outputs": [],
   "source": [
    "from sklearn.model_selection import train_test_split\n",
    "\n",
    "# Split the data into train & test sets\n",
    "# This lets us simulate how our model will perform in the future\n",
    "X_train, X_test, y_train, y_test = train_test_split(data.data, data.target, test_size=0.33)\n",
    "N, D = X_train.shape"
   ]
  },
  {
   "cell_type": "code",
   "execution_count": 11,
   "metadata": {},
   "outputs": [
    {
     "data": {
      "text/plain": [
       "(381, 30)"
      ]
     },
     "execution_count": 11,
     "metadata": {},
     "output_type": "execute_result"
    }
   ],
   "source": [
    "(N, D)"
   ]
  },
  {
   "cell_type": "code",
   "execution_count": 12,
   "metadata": {},
   "outputs": [],
   "source": [
    "# Scale the data\n",
    "from sklearn.preprocessing import StandardScaler\n",
    "\n",
    "scaler  = StandardScaler()\n",
    "X_train = scaler.fit_transform(X_train)\n",
    "X_test  = scaler.transform    (X_test)"
   ]
  },
  {
   "cell_type": "code",
   "execution_count": 13,
   "metadata": {},
   "outputs": [
    {
     "name": "stdout",
     "output_type": "stream",
     "text": [
      "Epoch 1/100\n",
      "12/12 [==============================] - 0s 13ms/step - loss: 1.1387 - accuracy: 0.3123 - val_loss: 1.0728 - val_accuracy: 0.3404\n",
      "Epoch 2/100\n",
      "12/12 [==============================] - 0s 3ms/step - loss: 1.0396 - accuracy: 0.3701 - val_loss: 0.9735 - val_accuracy: 0.4096\n",
      "Epoch 3/100\n",
      "12/12 [==============================] - 0s 3ms/step - loss: 0.9498 - accuracy: 0.4278 - val_loss: 0.8849 - val_accuracy: 0.4840\n",
      "Epoch 4/100\n",
      "12/12 [==============================] - 0s 3ms/step - loss: 0.8693 - accuracy: 0.4751 - val_loss: 0.8083 - val_accuracy: 0.5479\n",
      "Epoch 5/100\n",
      "12/12 [==============================] - 0s 4ms/step - loss: 0.7987 - accuracy: 0.5564 - val_loss: 0.7421 - val_accuracy: 0.6011\n",
      "Epoch 6/100\n",
      "12/12 [==============================] - 0s 4ms/step - loss: 0.7368 - accuracy: 0.6142 - val_loss: 0.6845 - val_accuracy: 0.6330\n",
      "Epoch 7/100\n",
      "12/12 [==============================] - 0s 3ms/step - loss: 0.6823 - accuracy: 0.6404 - val_loss: 0.6346 - val_accuracy: 0.6543\n",
      "Epoch 8/100\n",
      "12/12 [==============================] - 0s 3ms/step - loss: 0.6348 - accuracy: 0.6693 - val_loss: 0.5915 - val_accuracy: 0.6968\n",
      "Epoch 9/100\n",
      "12/12 [==============================] - 0s 3ms/step - loss: 0.5931 - accuracy: 0.6903 - val_loss: 0.5548 - val_accuracy: 0.7181\n",
      "Epoch 10/100\n",
      "12/12 [==============================] - 0s 3ms/step - loss: 0.5562 - accuracy: 0.7087 - val_loss: 0.5210 - val_accuracy: 0.7447\n",
      "Epoch 11/100\n",
      "12/12 [==============================] - 0s 4ms/step - loss: 0.5234 - accuracy: 0.7428 - val_loss: 0.4909 - val_accuracy: 0.7766\n",
      "Epoch 12/100\n",
      "12/12 [==============================] - 0s 3ms/step - loss: 0.4944 - accuracy: 0.7743 - val_loss: 0.4641 - val_accuracy: 0.7926\n",
      "Epoch 13/100\n",
      "12/12 [==============================] - 0s 3ms/step - loss: 0.4688 - accuracy: 0.7927 - val_loss: 0.4399 - val_accuracy: 0.7979\n",
      "Epoch 14/100\n",
      "12/12 [==============================] - 0s 3ms/step - loss: 0.4447 - accuracy: 0.8136 - val_loss: 0.4190 - val_accuracy: 0.8138\n",
      "Epoch 15/100\n",
      "12/12 [==============================] - 0s 3ms/step - loss: 0.4244 - accuracy: 0.8320 - val_loss: 0.3995 - val_accuracy: 0.8245\n",
      "Epoch 16/100\n",
      "12/12 [==============================] - 0s 3ms/step - loss: 0.4051 - accuracy: 0.8425 - val_loss: 0.3820 - val_accuracy: 0.8351\n",
      "Epoch 17/100\n",
      "12/12 [==============================] - 0s 2ms/step - loss: 0.3879 - accuracy: 0.8451 - val_loss: 0.3653 - val_accuracy: 0.8457\n",
      "Epoch 18/100\n",
      "12/12 [==============================] - 0s 3ms/step - loss: 0.3722 - accuracy: 0.8635 - val_loss: 0.3501 - val_accuracy: 0.8564\n",
      "Epoch 19/100\n",
      "12/12 [==============================] - 0s 3ms/step - loss: 0.3577 - accuracy: 0.8714 - val_loss: 0.3364 - val_accuracy: 0.8670\n",
      "Epoch 20/100\n",
      "12/12 [==============================] - 0s 3ms/step - loss: 0.3446 - accuracy: 0.8766 - val_loss: 0.3239 - val_accuracy: 0.8723\n",
      "Epoch 21/100\n",
      "12/12 [==============================] - 0s 4ms/step - loss: 0.3328 - accuracy: 0.8871 - val_loss: 0.3117 - val_accuracy: 0.8830\n",
      "Epoch 22/100\n",
      "12/12 [==============================] - 0s 3ms/step - loss: 0.3210 - accuracy: 0.8898 - val_loss: 0.3012 - val_accuracy: 0.8936\n",
      "Epoch 23/100\n",
      "12/12 [==============================] - 0s 3ms/step - loss: 0.3112 - accuracy: 0.8950 - val_loss: 0.2908 - val_accuracy: 0.8989\n",
      "Epoch 24/100\n",
      "12/12 [==============================] - 0s 3ms/step - loss: 0.3011 - accuracy: 0.8976 - val_loss: 0.2820 - val_accuracy: 0.9096\n",
      "Epoch 25/100\n",
      "12/12 [==============================] - 0s 3ms/step - loss: 0.2921 - accuracy: 0.9081 - val_loss: 0.2733 - val_accuracy: 0.9096\n",
      "Epoch 26/100\n",
      "12/12 [==============================] - 0s 3ms/step - loss: 0.2839 - accuracy: 0.9108 - val_loss: 0.2652 - val_accuracy: 0.9202\n",
      "Epoch 27/100\n",
      "12/12 [==============================] - 0s 3ms/step - loss: 0.2763 - accuracy: 0.9186 - val_loss: 0.2572 - val_accuracy: 0.9202\n",
      "Epoch 28/100\n",
      "12/12 [==============================] - 0s 3ms/step - loss: 0.2688 - accuracy: 0.9213 - val_loss: 0.2500 - val_accuracy: 0.9202\n",
      "Epoch 29/100\n",
      "12/12 [==============================] - 0s 3ms/step - loss: 0.2619 - accuracy: 0.9213 - val_loss: 0.2436 - val_accuracy: 0.9202\n",
      "Epoch 30/100\n",
      "12/12 [==============================] - 0s 3ms/step - loss: 0.2555 - accuracy: 0.9239 - val_loss: 0.2373 - val_accuracy: 0.9202\n",
      "Epoch 31/100\n",
      "12/12 [==============================] - 0s 3ms/step - loss: 0.2495 - accuracy: 0.9239 - val_loss: 0.2313 - val_accuracy: 0.9202\n",
      "Epoch 32/100\n",
      "12/12 [==============================] - 0s 3ms/step - loss: 0.2437 - accuracy: 0.9239 - val_loss: 0.2257 - val_accuracy: 0.9202\n",
      "Epoch 33/100\n",
      "12/12 [==============================] - 0s 3ms/step - loss: 0.2384 - accuracy: 0.9291 - val_loss: 0.2203 - val_accuracy: 0.9255\n",
      "Epoch 34/100\n",
      "12/12 [==============================] - 0s 3ms/step - loss: 0.2333 - accuracy: 0.9318 - val_loss: 0.2153 - val_accuracy: 0.9255\n",
      "Epoch 35/100\n",
      "12/12 [==============================] - 0s 3ms/step - loss: 0.2284 - accuracy: 0.9370 - val_loss: 0.2108 - val_accuracy: 0.9255\n",
      "Epoch 36/100\n",
      "12/12 [==============================] - 0s 3ms/step - loss: 0.2243 - accuracy: 0.9396 - val_loss: 0.2060 - val_accuracy: 0.9309\n",
      "Epoch 37/100\n",
      "12/12 [==============================] - 0s 3ms/step - loss: 0.2196 - accuracy: 0.9423 - val_loss: 0.2020 - val_accuracy: 0.9362\n",
      "Epoch 38/100\n",
      "12/12 [==============================] - 0s 3ms/step - loss: 0.2156 - accuracy: 0.9423 - val_loss: 0.1981 - val_accuracy: 0.9362\n",
      "Epoch 39/100\n",
      "12/12 [==============================] - 0s 3ms/step - loss: 0.2118 - accuracy: 0.9423 - val_loss: 0.1942 - val_accuracy: 0.9415\n",
      "Epoch 40/100\n",
      "12/12 [==============================] - 0s 3ms/step - loss: 0.2079 - accuracy: 0.9423 - val_loss: 0.1907 - val_accuracy: 0.9415\n",
      "Epoch 41/100\n",
      "12/12 [==============================] - 0s 3ms/step - loss: 0.2045 - accuracy: 0.9449 - val_loss: 0.1872 - val_accuracy: 0.9415\n",
      "Epoch 42/100\n",
      "12/12 [==============================] - 0s 3ms/step - loss: 0.2011 - accuracy: 0.9449 - val_loss: 0.1839 - val_accuracy: 0.9415\n",
      "Epoch 43/100\n",
      "12/12 [==============================] - 0s 3ms/step - loss: 0.1979 - accuracy: 0.9449 - val_loss: 0.1807 - val_accuracy: 0.9415\n",
      "Epoch 44/100\n",
      "12/12 [==============================] - 0s 3ms/step - loss: 0.1950 - accuracy: 0.9423 - val_loss: 0.1775 - val_accuracy: 0.9415\n",
      "Epoch 45/100\n",
      "12/12 [==============================] - 0s 3ms/step - loss: 0.1921 - accuracy: 0.9423 - val_loss: 0.1745 - val_accuracy: 0.9415\n",
      "Epoch 46/100\n",
      "12/12 [==============================] - 0s 3ms/step - loss: 0.1892 - accuracy: 0.9423 - val_loss: 0.1719 - val_accuracy: 0.9468\n",
      "Epoch 47/100\n",
      "12/12 [==============================] - 0s 3ms/step - loss: 0.1865 - accuracy: 0.9423 - val_loss: 0.1692 - val_accuracy: 0.9468\n",
      "Epoch 48/100\n",
      "12/12 [==============================] - 0s 3ms/step - loss: 0.1840 - accuracy: 0.9396 - val_loss: 0.1667 - val_accuracy: 0.9521\n",
      "Epoch 49/100\n",
      "12/12 [==============================] - 0s 3ms/step - loss: 0.1817 - accuracy: 0.9423 - val_loss: 0.1643 - val_accuracy: 0.9521\n",
      "Epoch 50/100\n",
      "12/12 [==============================] - 0s 3ms/step - loss: 0.1792 - accuracy: 0.9449 - val_loss: 0.1619 - val_accuracy: 0.9521\n",
      "Epoch 51/100\n",
      "12/12 [==============================] - 0s 3ms/step - loss: 0.1769 - accuracy: 0.9475 - val_loss: 0.1597 - val_accuracy: 0.9521\n",
      "Epoch 52/100\n",
      "12/12 [==============================] - 0s 3ms/step - loss: 0.1748 - accuracy: 0.9475 - val_loss: 0.1576 - val_accuracy: 0.9521\n",
      "Epoch 53/100\n",
      "12/12 [==============================] - 0s 3ms/step - loss: 0.1727 - accuracy: 0.9475 - val_loss: 0.1555 - val_accuracy: 0.9521\n",
      "Epoch 54/100\n",
      "12/12 [==============================] - 0s 3ms/step - loss: 0.1706 - accuracy: 0.9475 - val_loss: 0.1534 - val_accuracy: 0.9521\n",
      "Epoch 55/100\n",
      "12/12 [==============================] - 0s 3ms/step - loss: 0.1687 - accuracy: 0.9475 - val_loss: 0.1514 - val_accuracy: 0.9574\n",
      "Epoch 56/100\n",
      "12/12 [==============================] - 0s 4ms/step - loss: 0.1669 - accuracy: 0.9475 - val_loss: 0.1495 - val_accuracy: 0.9574\n",
      "Epoch 57/100\n",
      "12/12 [==============================] - 0s 3ms/step - loss: 0.1650 - accuracy: 0.9475 - val_loss: 0.1476 - val_accuracy: 0.9574\n",
      "Epoch 58/100\n",
      "12/12 [==============================] - 0s 3ms/step - loss: 0.1633 - accuracy: 0.9501 - val_loss: 0.1458 - val_accuracy: 0.9574\n",
      "Epoch 59/100\n",
      "12/12 [==============================] - 0s 3ms/step - loss: 0.1616 - accuracy: 0.9501 - val_loss: 0.1441 - val_accuracy: 0.9574\n",
      "Epoch 60/100\n",
      "12/12 [==============================] - 0s 3ms/step - loss: 0.1599 - accuracy: 0.9501 - val_loss: 0.1426 - val_accuracy: 0.9574\n",
      "Epoch 61/100\n",
      "12/12 [==============================] - 0s 3ms/step - loss: 0.1583 - accuracy: 0.9501 - val_loss: 0.1409 - val_accuracy: 0.9574\n",
      "Epoch 62/100\n",
      "12/12 [==============================] - 0s 3ms/step - loss: 0.1569 - accuracy: 0.9528 - val_loss: 0.1393 - val_accuracy: 0.9628\n",
      "Epoch 63/100\n",
      "12/12 [==============================] - 0s 4ms/step - loss: 0.1553 - accuracy: 0.9528 - val_loss: 0.1378 - val_accuracy: 0.9628\n",
      "Epoch 64/100\n",
      "12/12 [==============================] - 0s 3ms/step - loss: 0.1539 - accuracy: 0.9528 - val_loss: 0.1364 - val_accuracy: 0.9628\n",
      "Epoch 65/100\n",
      "12/12 [==============================] - 0s 4ms/step - loss: 0.1525 - accuracy: 0.9554 - val_loss: 0.1349 - val_accuracy: 0.9628\n",
      "Epoch 66/100\n",
      "12/12 [==============================] - 0s 4ms/step - loss: 0.1512 - accuracy: 0.9580 - val_loss: 0.1335 - val_accuracy: 0.9628\n",
      "Epoch 67/100\n",
      "12/12 [==============================] - 0s 3ms/step - loss: 0.1499 - accuracy: 0.9580 - val_loss: 0.1322 - val_accuracy: 0.9628\n",
      "Epoch 68/100\n",
      "12/12 [==============================] - 0s 3ms/step - loss: 0.1485 - accuracy: 0.9606 - val_loss: 0.1309 - val_accuracy: 0.9628\n",
      "Epoch 69/100\n",
      "12/12 [==============================] - 0s 3ms/step - loss: 0.1473 - accuracy: 0.9606 - val_loss: 0.1296 - val_accuracy: 0.9628\n",
      "Epoch 70/100\n",
      "12/12 [==============================] - 0s 3ms/step - loss: 0.1461 - accuracy: 0.9606 - val_loss: 0.1285 - val_accuracy: 0.9628\n",
      "Epoch 71/100\n",
      "12/12 [==============================] - 0s 3ms/step - loss: 0.1449 - accuracy: 0.9606 - val_loss: 0.1272 - val_accuracy: 0.9681\n",
      "Epoch 72/100\n",
      "12/12 [==============================] - 0s 3ms/step - loss: 0.1437 - accuracy: 0.9606 - val_loss: 0.1260 - val_accuracy: 0.9681\n",
      "Epoch 73/100\n",
      "12/12 [==============================] - 0s 4ms/step - loss: 0.1426 - accuracy: 0.9606 - val_loss: 0.1248 - val_accuracy: 0.9681\n",
      "Epoch 74/100\n",
      "12/12 [==============================] - 0s 3ms/step - loss: 0.1416 - accuracy: 0.9606 - val_loss: 0.1237 - val_accuracy: 0.9681\n",
      "Epoch 75/100\n",
      "12/12 [==============================] - 0s 4ms/step - loss: 0.1405 - accuracy: 0.9606 - val_loss: 0.1225 - val_accuracy: 0.9681\n",
      "Epoch 76/100\n",
      "12/12 [==============================] - 0s 3ms/step - loss: 0.1394 - accuracy: 0.9606 - val_loss: 0.1216 - val_accuracy: 0.9681\n",
      "Epoch 77/100\n",
      "12/12 [==============================] - 0s 3ms/step - loss: 0.1384 - accuracy: 0.9633 - val_loss: 0.1205 - val_accuracy: 0.9681\n",
      "Epoch 78/100\n",
      "12/12 [==============================] - 0s 3ms/step - loss: 0.1374 - accuracy: 0.9633 - val_loss: 0.1194 - val_accuracy: 0.9681\n",
      "Epoch 79/100\n",
      "12/12 [==============================] - 0s 3ms/step - loss: 0.1365 - accuracy: 0.9633 - val_loss: 0.1185 - val_accuracy: 0.9681\n",
      "Epoch 80/100\n",
      "12/12 [==============================] - 0s 3ms/step - loss: 0.1355 - accuracy: 0.9633 - val_loss: 0.1175 - val_accuracy: 0.9681\n",
      "Epoch 81/100\n",
      "12/12 [==============================] - 0s 3ms/step - loss: 0.1346 - accuracy: 0.9659 - val_loss: 0.1165 - val_accuracy: 0.9681\n",
      "Epoch 82/100\n",
      "12/12 [==============================] - 0s 4ms/step - loss: 0.1337 - accuracy: 0.9659 - val_loss: 0.1156 - val_accuracy: 0.9681\n",
      "Epoch 83/100\n",
      "12/12 [==============================] - 0s 3ms/step - loss: 0.1328 - accuracy: 0.9659 - val_loss: 0.1147 - val_accuracy: 0.9681\n",
      "Epoch 84/100\n",
      "12/12 [==============================] - 0s 4ms/step - loss: 0.1320 - accuracy: 0.9659 - val_loss: 0.1138 - val_accuracy: 0.9681\n",
      "Epoch 85/100\n",
      "12/12 [==============================] - 0s 4ms/step - loss: 0.1311 - accuracy: 0.9659 - val_loss: 0.1129 - val_accuracy: 0.9681\n",
      "Epoch 86/100\n",
      "12/12 [==============================] - 0s 3ms/step - loss: 0.1303 - accuracy: 0.9659 - val_loss: 0.1120 - val_accuracy: 0.9681\n",
      "Epoch 87/100\n",
      "12/12 [==============================] - 0s 3ms/step - loss: 0.1294 - accuracy: 0.9659 - val_loss: 0.1112 - val_accuracy: 0.9734\n",
      "Epoch 88/100\n",
      "12/12 [==============================] - 0s 3ms/step - loss: 0.1287 - accuracy: 0.9659 - val_loss: 0.1104 - val_accuracy: 0.9734\n",
      "Epoch 89/100\n",
      "12/12 [==============================] - 0s 3ms/step - loss: 0.1279 - accuracy: 0.9659 - val_loss: 0.1096 - val_accuracy: 0.9734\n",
      "Epoch 90/100\n",
      "12/12 [==============================] - 0s 3ms/step - loss: 0.1271 - accuracy: 0.9659 - val_loss: 0.1088 - val_accuracy: 0.9734\n",
      "Epoch 91/100\n",
      "12/12 [==============================] - 0s 3ms/step - loss: 0.1264 - accuracy: 0.9659 - val_loss: 0.1081 - val_accuracy: 0.9734\n",
      "Epoch 92/100\n",
      "12/12 [==============================] - 0s 3ms/step - loss: 0.1257 - accuracy: 0.9659 - val_loss: 0.1073 - val_accuracy: 0.9734\n",
      "Epoch 93/100\n",
      "12/12 [==============================] - 0s 3ms/step - loss: 0.1250 - accuracy: 0.9659 - val_loss: 0.1065 - val_accuracy: 0.9734\n",
      "Epoch 94/100\n",
      "12/12 [==============================] - 0s 3ms/step - loss: 0.1243 - accuracy: 0.9685 - val_loss: 0.1058 - val_accuracy: 0.9734\n",
      "Epoch 95/100\n",
      "12/12 [==============================] - 0s 3ms/step - loss: 0.1236 - accuracy: 0.9685 - val_loss: 0.1051 - val_accuracy: 0.9734\n",
      "Epoch 96/100\n",
      "12/12 [==============================] - 0s 3ms/step - loss: 0.1229 - accuracy: 0.9685 - val_loss: 0.1044 - val_accuracy: 0.9734\n",
      "Epoch 97/100\n",
      "12/12 [==============================] - 0s 3ms/step - loss: 0.1222 - accuracy: 0.9685 - val_loss: 0.1037 - val_accuracy: 0.9734\n",
      "Epoch 98/100\n",
      "12/12 [==============================] - 0s 3ms/step - loss: 0.1216 - accuracy: 0.9685 - val_loss: 0.1031 - val_accuracy: 0.9734\n",
      "Epoch 99/100\n",
      "12/12 [==============================] - 0s 3ms/step - loss: 0.1209 - accuracy: 0.9685 - val_loss: 0.1024 - val_accuracy: 0.9734\n",
      "Epoch 100/100\n",
      "12/12 [==============================] - 0s 4ms/step - loss: 0.1203 - accuracy: 0.9711 - val_loss: 0.1018 - val_accuracy: 0.9734\n",
      "12/12 [==============================] - 0s 817us/step - loss: 0.1200 - accuracy: 0.9711\n",
      "Train score: [0.11995720118284225, 0.9711285829544067]\n",
      "6/6 [==============================] - 0s 1ms/step - loss: 0.1018 - accuracy: 0.9734\n",
      "Test  score: [0.10180175304412842, 0.9734042286872864]\n"
     ]
    }
   ],
   "source": [
    "# Build the model\n",
    "model = tf.keras.models.Sequential([\n",
    "    tf.keras.layers.Input(shape=(D,)),\n",
    "    tf.keras.layers.Dense(1, activation='sigmoid')\n",
    "])\n",
    "\n",
    "model.compile(  optimizer='adam',\n",
    "                loss='binary_crossentropy',\n",
    "                metrics=['accuracy'])\n",
    "\n",
    "# Train the model\n",
    "r = model.fit(X_train, y_train, validation_data=(X_test, y_test), epochs=100)\n",
    "\n",
    "# Evaluate the model - evaluate() returns loss and accuracy\n",
    "print(f'Train score: {model.evaluate(X_train, y_train)}')\n",
    "print(f'Test  score: {model.evaluate(X_test, y_test)}')"
   ]
  },
  {
   "cell_type": "code",
   "execution_count": 14,
   "metadata": {},
   "outputs": [
    {
     "data": {
      "text/plain": [
       "<matplotlib.legend.Legend at 0x13a91af4ee0>"
      ]
     },
     "execution_count": 14,
     "metadata": {},
     "output_type": "execute_result"
    },
    {
     "data": {
      "image/png": "[encoded data removed]",
      "text/plain": [
       "<Figure size 432x288 with 1 Axes>"
      ]
     },
     "metadata": {
      "needs_background": "light"
     },
     "output_type": "display_data"
    }
   ],
   "source": [
    "# Plot what's returned by model.fit()\n",
    "import matplotlib.pyplot as plt\n",
    "\n",
    "plt.plot(r.history['loss'],     label='loss')\n",
    "plt.plot(r.history['val_loss'], label='val_loss')\n",
    "plt.legend()"
   ]
  },
  {
   "cell_type": "code",
   "execution_count": 15,
   "metadata": {},
   "outputs": [
    {
     "data": {
      "text/plain": [
       "<matplotlib.legend.Legend at 0x13a91bf4af0>"
      ]
     },
     "execution_count": 15,
     "metadata": {},
     "output_type": "execute_result"
    },
    {
     "data": {
      "image/png": "[encoded data removed]",
      "text/plain": [
       "<Figure size 432x288 with 1 Axes>"
      ]
     },
     "metadata": {
      "needs_background": "light"
     },
     "output_type": "display_data"
    }
   ],
   "source": [
    "plt.plot(r.history['accuracy'],     label='acc')\n",
    "plt.plot(r.history['val_accuracy'], label='val_acc')\n",
    "plt.legend() "
   ]
  },
  {
   "cell_type": "markdown",
   "metadata": {},
   "source": [
    "# MAKING PREDICTIONS"
   ]
  },
  {
   "cell_type": "code",
   "execution_count": 16,
   "metadata": {},
   "outputs": [
    {
     "data": {
      "text/plain": [
       "array([[7.5370699e-02],\n",
       "       [9.8504698e-01],\n",
       "       [9.7289419e-01],\n",
       "       [9.4251102e-01],\n",
       "       [1.7584705e-01],\n",
       "       [8.2296908e-01],\n",
       "       [9.9901867e-01],\n",
       "       [1.7551661e-02],\n",
       "       [1.4615953e-03],\n",
       "       [9.7790593e-01],\n",
       "       [9.5537996e-01],\n",
       "       [9.8421228e-01],\n",
       "       [2.2618741e-02],\n",
       "       [4.9629807e-04],\n",
       "       [9.7881001e-01],\n",
       "       [1.8888712e-04],\n",
       "       [9.6667767e-01],\n",
       "       [7.0419431e-01],\n",
       "       [3.6320686e-03],\n",
       "       [9.9169326e-01],\n",
       "       [9.9301642e-01],\n",
       "       [3.1651258e-03],\n",
       "       [9.7620809e-01],\n",
       "       [2.5495887e-04],\n",
       "       [8.8658786e-01],\n",
       "       [9.0421867e-01],\n",
       "       [9.7895664e-01],\n",
       "       [9.7867030e-01],\n",
       "       [8.4397143e-01],\n",
       "       [9.8729920e-01],\n",
       "       [9.1693211e-01],\n",
       "       [2.7322471e-03],\n",
       "       [5.6423515e-01],\n",
       "       [2.7553065e-06],\n",
       "       [7.8077132e-01],\n",
       "       [9.9506545e-01],\n",
       "       [9.9527776e-01],\n",
       "       [9.7772217e-01],\n",
       "       [1.4382601e-04],\n",
       "       [7.1989596e-03],\n",
       "       [9.9835914e-01],\n",
       "       [9.3947399e-01],\n",
       "       [9.7268343e-01],\n",
       "       [9.8474389e-01],\n",
       "       [7.7684522e-03],\n",
       "       [1.1654496e-03],\n",
       "       [6.9394487e-01],\n",
       "       [8.8358784e-01],\n",
       "       [9.9467814e-01],\n",
       "       [9.0821463e-01],\n",
       "       [1.5395045e-02],\n",
       "       [9.9188006e-01],\n",
       "       [6.6196978e-01],\n",
       "       [9.8947144e-01],\n",
       "       [6.2224269e-04],\n",
       "       [9.5827055e-01],\n",
       "       [9.9848151e-01],\n",
       "       [9.9492419e-01],\n",
       "       [9.9121660e-01],\n",
       "       [4.0350133e-01],\n",
       "       [9.8387587e-01],\n",
       "       [4.0163116e-07],\n",
       "       [5.9100956e-01],\n",
       "       [9.9838817e-01],\n",
       "       [9.1873050e-01],\n",
       "       [4.0417910e-04],\n",
       "       [1.5266868e-01],\n",
       "       [9.8794460e-01],\n",
       "       [2.3459381e-01],\n",
       "       [1.8468101e-07],\n",
       "       [9.3553805e-01],\n",
       "       [8.7871492e-01],\n",
       "       [9.4252264e-01],\n",
       "       [9.9551719e-01],\n",
       "       [1.6277754e-01],\n",
       "       [8.1304610e-02],\n",
       "       [9.1906047e-01],\n",
       "       [9.9538183e-01],\n",
       "       [8.7389660e-01],\n",
       "       [4.0181655e-01],\n",
       "       [8.7346482e-01],\n",
       "       [7.8596473e-03],\n",
       "       [7.0059299e-04],\n",
       "       [2.7251965e-01],\n",
       "       [9.8341185e-01],\n",
       "       [8.9747727e-01],\n",
       "       [8.4796226e-01],\n",
       "       [9.9783266e-01],\n",
       "       [8.5554779e-02],\n",
       "       [9.7759157e-01],\n",
       "       [4.7878638e-01],\n",
       "       [5.0120950e-03],\n",
       "       [3.5111392e-01],\n",
       "       [5.4770162e-06],\n",
       "       [2.8311610e-03],\n",
       "       [9.8013914e-01],\n",
       "       [5.0914854e-02],\n",
       "       [1.1704862e-03],\n",
       "       [2.3916572e-02],\n",
       "       [9.9786615e-01],\n",
       "       [9.3409359e-02],\n",
       "       [9.9805284e-01],\n",
       "       [4.0491500e-06],\n",
       "       [3.8797647e-01],\n",
       "       [9.8476541e-01],\n",
       "       [8.3065689e-01],\n",
       "       [9.9384749e-01],\n",
       "       [8.1448197e-02],\n",
       "       [4.7642598e-01],\n",
       "       [9.8602587e-01],\n",
       "       [1.4245811e-01],\n",
       "       [8.8783991e-01],\n",
       "       [1.7127395e-04],\n",
       "       [9.9870265e-01],\n",
       "       [9.9845445e-01],\n",
       "       [9.6723402e-01],\n",
       "       [8.1667387e-01],\n",
       "       [2.5543898e-02],\n",
       "       [9.9004316e-01],\n",
       "       [8.8117683e-01],\n",
       "       [5.3221554e-02],\n",
       "       [9.9964702e-01],\n",
       "       [9.9749625e-02],\n",
       "       [9.7151434e-01],\n",
       "       [8.9128840e-01],\n",
       "       [9.4588006e-01],\n",
       "       [2.6771224e-07],\n",
       "       [3.0585349e-02],\n",
       "       [7.2531903e-01],\n",
       "       [4.6678670e-05],\n",
       "       [9.9712539e-01],\n",
       "       [9.9255311e-01],\n",
       "       [5.6827068e-04],\n",
       "       [1.1520088e-03],\n",
       "       [2.1646664e-01],\n",
       "       [9.9965858e-01],\n",
       "       [9.9413574e-01],\n",
       "       [9.8679435e-01],\n",
       "       [3.5275429e-02],\n",
       "       [8.7893999e-01],\n",
       "       [9.8824322e-01],\n",
       "       [9.9093652e-01],\n",
       "       [5.8892769e-01],\n",
       "       [2.9246960e-06],\n",
       "       [3.4314394e-04],\n",
       "       [9.1005898e-01],\n",
       "       [9.9913692e-01],\n",
       "       [9.6628726e-01],\n",
       "       [9.8681378e-01],\n",
       "       [9.9891043e-01],\n",
       "       [8.9992458e-01],\n",
       "       [4.9665383e-01],\n",
       "       [2.0425037e-01],\n",
       "       [6.3186944e-01],\n",
       "       [9.7545356e-01],\n",
       "       [1.3256926e-07],\n",
       "       [9.8717105e-01],\n",
       "       [2.3804644e-01],\n",
       "       [9.9666345e-01],\n",
       "       [9.8352969e-01],\n",
       "       [9.4076777e-01],\n",
       "       [5.8155358e-03],\n",
       "       [9.9179471e-01],\n",
       "       [9.7708166e-01],\n",
       "       [9.8687983e-01],\n",
       "       [1.2959986e-05],\n",
       "       [9.7931515e-05],\n",
       "       [2.0129928e-01],\n",
       "       [9.7103381e-01],\n",
       "       [9.9242079e-01],\n",
       "       [9.9662793e-01],\n",
       "       [9.9834442e-01],\n",
       "       [1.1911738e-01],\n",
       "       [2.3355734e-01],\n",
       "       [1.1183351e-02],\n",
       "       [9.9871117e-01],\n",
       "       [9.9514222e-01],\n",
       "       [9.8519969e-01],\n",
       "       [2.9866368e-02],\n",
       "       [9.9479878e-01],\n",
       "       [9.9168122e-01],\n",
       "       [7.9934102e-01],\n",
       "       [9.9797630e-01],\n",
       "       [2.7670115e-02],\n",
       "       [9.7069263e-01],\n",
       "       [7.2732389e-02],\n",
       "       [9.9798089e-01],\n",
       "       [9.9133563e-01]], dtype=float32)"
      ]
     },
     "execution_count": 16,
     "metadata": {},
     "output_type": "execute_result"
    }
   ],
   "source": [
    "P = model.predict(X_test)\n",
    "P # Outputs of the sigmoid, interpreted as probabilities p(y = 1 | x)"
   ]
  },
  {
   "cell_type": "code",
   "execution_count": 17,
   "metadata": {},
   "outputs": [
    {
     "data": {
      "text/plain": [
       "array([0., 1., 1., 1., 0., 1., 1., 0., 0., 1., 1., 1., 0., 0., 1., 0., 1.,\n",
       "       1., 0., 1., 1., 0., 1., 0., 1., 1., 1., 1., 1., 1., 1., 0., 1., 0.,\n",
       "       1., 1., 1., 1., 0., 0., 1., 1., 1., 1., 0., 0., 1., 1., 1., 1., 0.,\n",
       "       1., 1., 1., 0., 1., 1., 1., 1., 0., 1., 0., 1., 1., 1., 0., 0., 1.,\n",
       "       0., 0., 1., 1., 1., 1., 0., 0., 1., 1., 1., 0., 1., 0., 0., 0., 1.,\n",
       "       1., 1., 1., 0., 1., 0., 0., 0., 0., 0., 1., 0., 0., 0., 1., 0., 1.,\n",
       "       0., 0., 1., 1., 1., 0., 0., 1., 0., 1., 0., 1., 1., 1., 1., 0., 1.,\n",
       "       1., 0., 1., 0., 1., 1., 1., 0., 0., 1., 0., 1., 1., 0., 0., 0., 1.,\n",
       "       1., 1., 0., 1., 1., 1., 1., 0., 0., 1., 1., 1., 1., 1., 1., 0., 0.,\n",
       "       1., 1., 0., 1., 0., 1., 1., 1., 0., 1., 1., 1., 0., 0., 0., 1., 1.,\n",
       "       1., 1., 0., 0., 0., 1., 1., 1., 0., 1., 1., 1., 1., 0., 1., 0., 1.,\n",
       "       1.], dtype=float32)"
      ]
     },
     "execution_count": 17,
     "metadata": {},
     "output_type": "execute_result"
    }
   ],
   "source": [
    "# Round to get the actual predictions\n",
    "# Has to be flattened since the targets are size (N,) while the predictions are size (N, 1)\n",
    "import numpy as np\n",
    "P = np.round(P).flatten()\n",
    "P"
   ]
  },
  {
   "cell_type": "code",
   "execution_count": 20,
   "metadata": {},
   "outputs": [
    {
     "name": "stdout",
     "output_type": "stream",
     "text": [
      "Manually calculated accuracy: 0.973404255319149\n",
      "6/6 [==============================] - 0s 1ms/step - loss: 0.1018 - accuracy: 0.9734\n",
      "Evaluate output:              [0.10180175304412842, 0.9734042286872864]\n"
     ]
    }
   ],
   "source": [
    "# Calculate the accuracy, compare it to evaluate() output\n",
    "print(f'Manually calculated accuracy: {np.mean(P == y_test)}')\n",
    "print(f'Evaluate output:              {model.evaluate(X_test, y_test)}')"
   ]
  },
  {
   "cell_type": "markdown",
   "metadata": {},
   "source": [
    "# SAVE & LOADING A MODEL"
   ]
  },
  {
   "cell_type": "code",
   "execution_count": 21,
   "metadata": {},
   "outputs": [],
   "source": [
    "model.save('linear_classifier.h5')"
   ]
  },
  {
   "cell_type": "code",
   "execution_count": 24,
   "metadata": {},
   "outputs": [
    {
     "name": "stdout",
     "output_type": "stream",
     "text": [
      " Volume in drive C is Acer\n",
      " Volume Serial Number is DE24-AAA8\n",
      "\n",
      " Directory of c:\\Users\\Doan Trong Hieu\\Downloads\\IMPORTANT\\SPECIALIZATION\\Artificial_Intelligence\\COMPUTER VISION\\CODING_COMPUTER_VISION\\UDM_Lazy_Programmer_Inc_CNN\n",
      "\n",
      "03/15/2022  08:18 AM    <DIR>          .\n",
      "03/14/2022  07:45 PM    <DIR>          ..\n",
      "03/15/2022  08:18 AM            19,312 linear_classifier.h5\n",
      "03/15/2022  01:41 AM             2,302 moore.csv\n",
      "03/15/2022  08:16 AM            85,207 TF2.Linear_Regression.ipynb\n",
      "03/15/2022  08:18 AM            66,536 TF2_Linear_Classification.ipynb\n",
      "               4 File(s)        173,357 bytes\n",
      "               2 Dir(s)  106,301,771,776 bytes free\n"
     ]
    }
   ],
   "source": [
    "ls"
   ]
  },
  {
   "cell_type": "code",
   "execution_count": 26,
   "metadata": {},
   "outputs": [
    {
     "name": "stdout",
     "output_type": "stream",
     "text": [
      "[<keras.layers.core.dense.Dense object at 0x0000013A88E7CA30>]\n",
      "6/6 [==============================] - 0s 1ms/step - loss: 0.1018 - accuracy: 0.9734\n"
     ]
    },
    {
     "data": {
      "text/plain": [
       "[0.10180175304412842, 0.9734042286872864]"
      ]
     },
     "execution_count": 26,
     "metadata": {},
     "output_type": "execute_result"
    }
   ],
   "source": [
    "# Load the model\n",
    "model = tf.keras.models.load_model('linear_classifier.h5')\n",
    "print(model.layers)\n",
    "model.evaluate(X_test, y_test)\n"
   ]
  }
 ],
 "metadata": {
  "interpreter": {
   "hash": "ee5cc6fef2d70a7e71ee3826687cbd150f18158e0b1eef11d4f4f92bb920e304"
  },
  "kernelspec": {
   "display_name": "Python 3.9.7 64-bit",
   "language": "python",
   "name": "python3"
  },
  "language_info": {
   "codemirror_mode": {
    "name": "ipython",
    "version": 3
   },
   "file_extension": ".py",
   "mimetype": "text/x-python",
   "name": "python",
   "nbconvert_exporter": "python",
   "pygments_lexer": "ipython3",
   "version": "3.9.7"
  },
  "orig_nbformat": 4
 },
 "nbformat": 4,
 "nbformat_minor": 2
}
