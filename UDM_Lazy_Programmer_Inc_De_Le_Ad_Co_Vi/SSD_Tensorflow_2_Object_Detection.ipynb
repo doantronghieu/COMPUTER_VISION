{
  "cells": [
    {
      "cell_type": "markdown",
      "metadata": {
        "id": "tElC7-D69ZgA"
      },
      "source": [
        "## Beginner Warning\n",
        "\n",
        "This is dependent on a separate library which is not part of Tensorflow (but still made by the Tensorflow team).\n",
        "\n",
        "Some beginners got \"stuck\" in the past when Tensorflow 2 came out, but this library was not compatible with Tensorflow 2.\n",
        "\n",
        "Beginners often feel uncomfortable using older versions of libraries. This is *not* how things work in the real world.\n",
        "\n",
        "See \"Why bad programmers always need the latest version\": https://youtu.be/BIXH_m6CT2I"
      ]
    },
    {
      "cell_type": "markdown",
      "metadata": {
        "id": "e2GB33SeJO-9"
      },
      "source": [
        "## Clone Tensorflow Models Repository"
      ]
    },
    {
      "cell_type": "code",
      "execution_count": null,
      "metadata": {
        "colab": {
          "base_uri": "https://localhost:8080/"
        },
        "id": "ZTwuLQj4JGDM",
        "outputId": "1893c63b-6fe4-47d4-cb16-f98f7431e33c"
      },
      "outputs": [],
      "source": [
        "!git clone https://github.com/tensorflow/models.git"
      ]
    },
    {
      "cell_type": "markdown",
      "metadata": {
        "id": "2IfyWba5JT_T"
      },
      "source": [
        "## Install Protobuf\n",
        "\n",
        "No need to do this if you are on Colab.\n",
        "\n",
        "If you're doing this locally, download the latest Protobuf library for your OS from https://github.com/google/protobuf/releases\n",
        "\n",
        "The filename should look like \"protoc-\\*-\\*.zip\".\n",
        "\n",
        "Example: protoc-3.17.3-win64.zip if you are using 64-bit Windows.\n",
        "\n",
        "Assuming you've unzipped this zip file to \\<path\\>, the next step is to add \\<path\\>/bin to your PATH environment variable (on Linux or Mac).\n",
        "\n",
        "Once Protobuf has been successfully installed, you can run the following command (note: must be done from the models/research folder)."
      ]
    },
    {
      "cell_type": "code",
      "execution_count": null,
      "metadata": {
        "id": "A9kWqSxMJIHO"
      },
      "outputs": [],
      "source": [
        "!cd models/research/ && protoc object_detection/protos/*.proto --python_out=."
      ]
    },
    {
      "cell_type": "markdown",
      "metadata": {
        "id": "LEiCnyYPKfmS"
      },
      "source": [
        "## Install the object detection API"
      ]
    },
    {
      "cell_type": "code",
      "execution_count": null,
      "metadata": {
        "colab": {
          "base_uri": "https://localhost:8080/"
        },
        "id": "62uWk8rBKc2R",
        "outputId": "30b7b3ec-8c2d-48d3-dc31-841b68a44263"
      },
      "outputs": [],
      "source": [
        "!cd models/research && \\\n",
        "    cp object_detection/packages/tf2/setup.py . && \\\n",
        "    python -m pip install ."
      ]
    },
    {
      "cell_type": "markdown",
      "metadata": {
        "id": "5hyVeO6PKofm"
      },
      "source": [
        "## Test Installation (Optional)"
      ]
    },
    {
      "cell_type": "code",
      "execution_count": null,
      "metadata": {
        "colab": {
          "base_uri": "https://localhost:8080/"
        },
        "id": "w_mkb5tkKl0i",
        "outputId": "59cbc327-8de0-48dc-f95e-fdd464e2179d"
      },
      "outputs": [],
      "source": [
        "# !cd models/research && python object_detection/builders/model_builder_tf2_test.py"
      ]
    },
    {
      "cell_type": "markdown",
      "metadata": {
        "id": "E9uF69EyK9NB"
      },
      "source": [
        "## Import Libraries"
      ]
    },
    {
      "cell_type": "code",
      "execution_count": null,
      "metadata": {
        "id": "m6B7b0QoK-4h"
      },
      "outputs": [],
      "source": [
        "import os\n",
        "import pathlib\n",
        "import tensorflow as tf\n",
        "\n",
        "import time\n",
        "from object_detection.utils import label_map_util\n",
        "from object_detection.utils import visualization_utils as viz_utils\n",
        "\n",
        "import numpy as np\n",
        "from PIL import Image\n",
        "import matplotlib.pyplot as plt\n",
        "\n",
        "%matplotlib inline"
      ]
    },
    {
      "cell_type": "code",
      "execution_count": null,
      "metadata": {
        "id": "0aDDdrlXLMLt"
      },
      "outputs": [],
      "source": [
        "# Enable GPU dynamic memory allocation\n",
        "gpus = tf.config.experimental.list_physical_devices('GPU')\n",
        "for gpu in gpus:\n",
        "    tf.config.experimental.set_memory_growth(gpu, True)"
      ]
    },
    {
      "cell_type": "markdown",
      "metadata": {
        "id": "_XKjRVYUKz-T"
      },
      "source": [
        "## Download Images"
      ]
    },
    {
      "cell_type": "code",
      "execution_count": null,
      "metadata": {
        "colab": {
          "base_uri": "https://localhost:8080/"
        },
        "id": "aSH_uOT0LO0p",
        "outputId": "4cef94b5-6178-4c58-bdb0-f3550c000807"
      },
      "outputs": [],
      "source": [
        "!wget -nc https://lazyprogrammer.me/course_files/object_detection_images/walkingdog.jpeg\n",
        "!wget -nc https://lazyprogrammer.me/course_files/object_detection_images/traffic.jpeg\n",
        "!wget -nc https://lazyprogrammer.me/course_files/object_detection_images/jungle.jpeg\n",
        "!wget -nc https://lazyprogrammer.me/course_files/object_detection_images/intersection.jpeg"
      ]
    },
    {
      "cell_type": "code",
      "execution_count": null,
      "metadata": {
        "colab": {
          "base_uri": "https://localhost:8080/"
        },
        "id": "PLsVNCb-MzB5",
        "outputId": "1dcb4338-a60a-45a6-9d31-d3007dd9f6da"
      },
      "outputs": [],
      "source": [
        "!ls"
      ]
    },
    {
      "cell_type": "code",
      "execution_count": null,
      "metadata": {
        "id": "yk_wVy7EMdwV"
      },
      "outputs": [],
      "source": [
        "IMAGE_PATHS = [\n",
        "  'intersection.jpeg', 'traffic.jpeg', 'jungle.jpeg', 'walkingdog.jpeg']"
      ]
    },
    {
      "cell_type": "markdown",
      "metadata": {
        "id": "eoDKiMzHNIDM"
      },
      "source": [
        "## Download and extract model files\n",
        "\n",
        "Get URLs from the \"Object Detection Zoo\": https://github.com/tensorflow/models/blob/master/research/object_detection/g3doc/tf2_detection_zoo.md"
      ]
    },
    {
      "cell_type": "code",
      "execution_count": null,
      "metadata": {
        "colab": {
          "base_uri": "https://localhost:8080/"
        },
        "id": "-v832iNDM7vg",
        "outputId": "4031711f-bf39-431f-e9b9-00a02efe0764"
      },
      "outputs": [],
      "source": [
        "url = 'http://download.tensorflow.org/models/object_detection/tf2/20200711/ssd_resnet101_v1_fpn_640x640_coco17_tpu-8.tar.gz'\n",
        "\n",
        "PATH_TO_MODEL_DIR = tf.keras.utils.get_file(\n",
        "    fname='ssd_resnet101_v1_fpn_640x640_coco17_tpu-8',\n",
        "    origin=url,\n",
        "    untar=True)"
      ]
    },
    {
      "cell_type": "code",
      "execution_count": null,
      "metadata": {
        "colab": {
          "base_uri": "https://localhost:8080/",
          "height": 35
        },
        "id": "8FABB-ehNtri",
        "outputId": "17876024-84af-4dc8-9f2b-c4ccfd3ea482"
      },
      "outputs": [],
      "source": [
        "PATH_TO_MODEL_DIR"
      ]
    },
    {
      "cell_type": "markdown",
      "metadata": {
        "id": "JD3tciH_N6_j"
      },
      "source": [
        "## Download Labels File\n",
        "\n",
        "Label files can be found here: https://github.com/tensorflow/models/tree/master/research/object_detection/data\n",
        "\n",
        "You probably won't need these since Object Detection Zoo contains only models trained on COCO."
      ]
    },
    {
      "cell_type": "code",
      "execution_count": null,
      "metadata": {
        "colab": {
          "base_uri": "https://localhost:8080/"
        },
        "id": "MWgbeVHxNwGo",
        "outputId": "86cc41bb-abb8-4ab3-ffe9-8f57d67261f5"
      },
      "outputs": [],
      "source": [
        "url = 'https://raw.githubusercontent.com/tensorflow/models/master/research/object_detection/data/mscoco_label_map.pbtxt'\n",
        "\n",
        "PATH_TO_LABELS = tf.keras.utils.get_file(\n",
        "    fname='mscoco_label_map.pbtxt',\n",
        "    origin=url,\n",
        "    untar=False)"
      ]
    },
    {
      "cell_type": "code",
      "execution_count": null,
      "metadata": {
        "colab": {
          "base_uri": "https://localhost:8080/",
          "height": 35
        },
        "id": "WPyGQN0WOMJs",
        "outputId": "41fe0240-e30b-4acc-bc58-e8921bada967"
      },
      "outputs": [],
      "source": [
        "PATH_TO_LABELS"
      ]
    },
    {
      "cell_type": "code",
      "execution_count": null,
      "metadata": {
        "colab": {
          "base_uri": "https://localhost:8080/"
        },
        "id": "O3CFWDq8ONaj",
        "outputId": "d91c44e8-41bc-45d9-9db5-e210dcf6581e"
      },
      "outputs": [],
      "source": [
        "!head {PATH_TO_LABELS}"
      ]
    },
    {
      "cell_type": "markdown",
      "metadata": {
        "id": "21Kdl6BnO06F"
      },
      "source": [
        "## Load in the model"
      ]
    },
    {
      "cell_type": "code",
      "execution_count": null,
      "metadata": {
        "colab": {
          "base_uri": "https://localhost:8080/"
        },
        "id": "KYJ9p1KmOOfz",
        "outputId": "06a5cf17-94e7-4163-f1d2-38e15122650b"
      },
      "outputs": [],
      "source": [
        "PATH_TO_SAVED_MODEL = PATH_TO_MODEL_DIR + \"/saved_model\"\n",
        "\n",
        "print('Loading model...', end='')\n",
        "start_time = time.time()\n",
        "\n",
        "# Load saved model and build the detection function\n",
        "detect_fn = tf.saved_model.load(PATH_TO_SAVED_MODEL)\n",
        "\n",
        "end_time = time.time()\n",
        "elapsed_time = end_time - start_time\n",
        "print('Done! Took {} seconds'.format(elapsed_time))"
      ]
    },
    {
      "cell_type": "markdown",
      "metadata": {
        "id": "HzSdu5_lO63X"
      },
      "source": [
        "## Load in the labels"
      ]
    },
    {
      "cell_type": "code",
      "execution_count": null,
      "metadata": {
        "id": "ztjFZleoO5ny"
      },
      "outputs": [],
      "source": [
        "category_index = label_map_util.create_category_index_from_labelmap(\n",
        "    PATH_TO_LABELS,\n",
        "    use_display_name=True)"
      ]
    },
    {
      "cell_type": "code",
      "execution_count": null,
      "metadata": {
        "colab": {
          "base_uri": "https://localhost:8080/"
        },
        "id": "pPRderVGO2C8",
        "outputId": "f6bc6f5a-6038-4363-c32e-5deabaf52287"
      },
      "outputs": [],
      "source": [
        "category_index"
      ]
    },
    {
      "cell_type": "markdown",
      "metadata": {
        "id": "Vu3HJWcHPJug"
      },
      "source": [
        "## Helper function"
      ]
    },
    {
      "cell_type": "code",
      "execution_count": null,
      "metadata": {
        "id": "xaCBZo51O-FM"
      },
      "outputs": [],
      "source": [
        "## Helper function\n",
        "\n",
        "def load_image_into_numpy_array(path):\n",
        "    \"\"\"Load an image from file into a numpy array.\n",
        "\n",
        "    Puts image into numpy array to feed into tensorflow graph.\n",
        "    Note that by convention we put it into a numpy array with shape\n",
        "    (height, width, channels), where channels=3 for RGB.\n",
        "\n",
        "    Args:\n",
        "      path: the file path to the image\n",
        "\n",
        "    Returns:\n",
        "      uint8 numpy array with shape (img_height, img_width, 3)\n",
        "    \"\"\"\n",
        "    return np.array(Image.open(path))"
      ]
    },
    {
      "cell_type": "markdown",
      "metadata": {
        "id": "bOd-tu-oPLsF"
      },
      "source": [
        "## Do some object detection"
      ]
    },
    {
      "cell_type": "code",
      "execution_count": null,
      "metadata": {
        "id": "padtxBzjPIgR"
      },
      "outputs": [],
      "source": [
        "def detect_objects(image_path):\n",
        "    print('Running inference for {}... '.format(image_path), end='')\n",
        "\n",
        "    image_np = load_image_into_numpy_array(image_path)\n",
        "\n",
        "    # The input needs to be a tensor, convert it using `tf.convert_to_tensor`.\n",
        "    input_tensor = tf.convert_to_tensor(image_np)\n",
        "\n",
        "    # The model expects a batch of images, so add an axis with `tf.newaxis`.\n",
        "    input_tensor = input_tensor[tf.newaxis, ...]\n",
        "\n",
        "    # Do the detection\n",
        "    detections = detect_fn(input_tensor)\n",
        "\n",
        "    # All outputs are batches tensors.\n",
        "    # Convert to numpy arrays, and take index [0] to remove the batch dimension.\n",
        "    # We're only interested in the first num_detections.\n",
        "    num_detections = int(detections.pop('num_detections'))\n",
        "    detections = {key: value[0, :num_detections].numpy()\n",
        "                   for key, value in detections.items()}\n",
        "    detections['num_detections'] = num_detections\n",
        "\n",
        "    # detection_classes should be ints.\n",
        "    detections['detection_classes'] = detections['detection_classes'].astype(np.int64)\n",
        "\n",
        "    # show classes\n",
        "    # unique_classes = set(detections['detection_classes'])\n",
        "    # print(\"Classes found:\")\n",
        "    # for c in unique_classes:\n",
        "    #     print(category_index[c]['name'])\n",
        "\n",
        "    image_np_with_detections = image_np.copy()\n",
        "\n",
        "    viz_utils.visualize_boxes_and_labels_on_image_array(\n",
        "          image_np_with_detections,\n",
        "          detections['detection_boxes'],\n",
        "          detections['detection_classes'],\n",
        "          detections['detection_scores'],\n",
        "          category_index,\n",
        "          use_normalized_coordinates=True,\n",
        "          max_boxes_to_draw=200,\n",
        "          min_score_thresh=.30,\n",
        "          agnostic_mode=False)\n",
        "\n",
        "    plt.figure(figsize=(15, 10))\n",
        "    plt.imshow(image_np_with_detections)\n",
        "    print('Done')\n",
        "    plt.show()"
      ]
    },
    {
      "cell_type": "code",
      "execution_count": null,
      "metadata": {
        "colab": {
          "base_uri": "https://localhost:8080/",
          "height": 539
        },
        "id": "_BitrPDFPggI",
        "outputId": "f6b67d61-12a9-4a8b-842d-e7455e8498de"
      },
      "outputs": [],
      "source": [
        "detect_objects(IMAGE_PATHS[0])"
      ]
    },
    {
      "cell_type": "code",
      "execution_count": null,
      "metadata": {
        "colab": {
          "base_uri": "https://localhost:8080/",
          "height": 511
        },
        "id": "r7qeg-VYPi4O",
        "outputId": "5b0b5380-8def-4e28-9aa3-9c1fe4699a13"
      },
      "outputs": [],
      "source": [
        "detect_objects(IMAGE_PATHS[1])"
      ]
    },
    {
      "cell_type": "code",
      "execution_count": null,
      "metadata": {
        "colab": {
          "base_uri": "https://localhost:8080/",
          "height": 609
        },
        "id": "y5UcZeUXPmuO",
        "outputId": "38a4f545-b58a-412f-8008-4095e1f7bc62"
      },
      "outputs": [],
      "source": [
        "detect_objects(IMAGE_PATHS[2])"
      ]
    },
    {
      "cell_type": "code",
      "execution_count": null,
      "metadata": {
        "colab": {
          "base_uri": "https://localhost:8080/",
          "height": 507
        },
        "id": "AESTL1ZpPvLl",
        "outputId": "23a9c795-8846-41fc-cfb5-8820a13cd294"
      },
      "outputs": [],
      "source": [
        "detect_objects(IMAGE_PATHS[3])"
      ]
    },
    {
      "cell_type": "code",
      "execution_count": null,
      "metadata": {
        "id": "IhOMkKf1P6x0"
      },
      "outputs": [],
      "source": []
    }
  ],
  "metadata": {
    "colab": {
      "collapsed_sections": [],
      "name": "SSD Tensorflow 2 Object Detection.ipynb",
      "provenance": []
    },
    "kernelspec": {
      "display_name": "Python 3",
      "name": "python3"
    },
    "language_info": {
      "name": "python"
    }
  },
  "nbformat": 4,
  "nbformat_minor": 0
}
