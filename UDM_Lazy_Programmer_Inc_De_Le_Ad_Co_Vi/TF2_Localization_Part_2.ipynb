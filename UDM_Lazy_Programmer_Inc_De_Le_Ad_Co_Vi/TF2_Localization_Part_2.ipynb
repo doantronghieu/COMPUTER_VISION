{
 "cells": [
  {
   "cell_type": "markdown",
   "metadata": {},
   "source": [
    "# LIBRARIES"
   ]
  },
  {
   "cell_type": "code",
   "execution_count": null,
   "metadata": {},
   "outputs": [],
   "source": [
    "import tensorflow as tf\n",
    "import numpy as np\n",
    "import matplotlib.pyplot as plt\n",
    "from tensorflow.keras.layers import Flatten, Dense\n",
    "from tensorflow.keras.models import Model\n",
    "from tensorflow.keras.optimizers import Adam, SGD\n",
    "from tensorflow.keras.preprocessing import image\n",
    "from imageio import imread\n",
    "from skimage.transform import resize"
   ]
  },
  {
   "cell_type": "markdown",
   "metadata": {},
   "source": [
    "# DIFFERENT SIZED OBJECTS"
   ]
  },
  {
   "cell_type": "code",
   "execution_count": null,
   "metadata": {},
   "outputs": [],
   "source": [
    "ch = image.load_img('charmander-tight.png')\n",
    "POKE_DIM      = 200 # Size of image \n",
    "ch            = np.array(ch)\n",
    "CH_H, CH_W, _ = ch.shape\n",
    "\n",
    "plt.imshow(ch)\n",
    "plt.show()"
   ]
  },
  {
   "cell_type": "code",
   "execution_count": null,
   "metadata": {},
   "outputs": [],
   "source": [
    "def pokemon_generator_with_resize(batch_size=64):\n",
    "    # Generate image and targets\n",
    "    while True:\n",
    "        # Each epoch will have 50 batches\n",
    "        for _ in range(50):\n",
    "            X = np.zeros(shape=(batch_size, POKE_DIM, POKE_DIM, 3))\n",
    "            Y = np.zeros(shape=(batch_size, 4))\n",
    "            \n",
    "            # Make the boxes and store their location in target\n",
    "            for i in range(batch_size):\n",
    "                # Resize img - make it bigger or smaller\n",
    "                scale = 0.5 + np.random.random() # [0.5 -> 1.5]\n",
    "                new_height = int(CH_H * scale)\n",
    "                new_width  = int(CH_W * scale)\n",
    "                obj = resize(image=ch, output_shape=(new_height, new_width),\n",
    "                            preserve_range=True).astype(np.uint) # Keep 0 -> 255\n",
    "                \n",
    "                # Choose location & store in target\n",
    "                row0 = np.random.randint(POKE_DIM - new_height)\n",
    "                col0 = np.random.randint(POKE_DIM - new_width)\n",
    "                row1 = row0 + new_height\n",
    "                col1 = col0 + new_width\n",
    "                \n",
    "                # Images\n",
    "                X[i, row0:row1, col0:col1, :] = obj[:, :, :3]\n",
    "                # Targets\n",
    "                Y[i, 0] = row0 / POKE_DIM           # Top left\n",
    "                Y[i, 1] = col0 / POKE_DIM           # Top left\n",
    "                Y[i, 2] = (row1 - row0) / POKE_DIM  # Height\n",
    "                Y[i, 3] = (col1 - col0) / POKE_DIM  # Width\n",
    "            \n",
    "            yield X / 255., Y"
   ]
  },
  {
   "cell_type": "code",
   "execution_count": null,
   "metadata": {},
   "outputs": [],
   "source": [
    "def make_model2():\n",
    "    vgg   = tf.keras.applications.VGG16(input_shape=[POKE_DIM, POKE_DIM, 3],\n",
    "                                        include_top=False, weights='imagenet')\n",
    "    x     = Flatten()(vgg.output)\n",
    "    x     = Dense(units=4, activation='sigmoid')(x)\n",
    "    model = Model(vgg.input, x)\n",
    "    model.compile(loss='binary_crossentropy', optimizer=Adam(learning_rate=0.0001))\n",
    "    \n",
    "    return model\n",
    "\n",
    "model = make_model2()\n",
    "model.fit(x=pokemon_generator_with_resize(), steps_per_epoch=50, epochs=5)"
   ]
  },
  {
   "cell_type": "code",
   "execution_count": null,
   "metadata": {},
   "outputs": [],
   "source": [
    "from matplotlib.patches import Rectangle\n",
    "\n",
    "# Make predictions with resize\n",
    "def make_predictions_with_resize():\n",
    "    scale = 0.5 + np.random.random() # [0.5 -> 1.5]\n",
    "    new_height = int(CH_H * scale)\n",
    "    new_width  = int(CH_W * scale)\n",
    "    obj = resize(image=ch, output_shape=(new_height, new_width),\n",
    "                preserve_range=True).astype(np.unit8) # Keep 0 -> 255\n",
    "    \n",
    "    # Generate a random image\n",
    "    x    = np.zeros(shape=(POKE_DIM, POKE_DIM, 3))\n",
    "    row0 = np.random.randint(POKE_DIM - new_height)\n",
    "    col0 = np.random.randint(POKE_DIM - new_width)\n",
    "    row1 = row0 + new_height\n",
    "    col1 = col0 + new_width\n",
    "    x[row0:row1, col0:col1, :] = obj[:, :, :3]\n",
    "    \n",
    "    # Predict\n",
    "    X = np.expand_dims(x, 0) / 255.\n",
    "    p = model.predict(X)[0]\n",
    "    \n",
    "    # Calculate target/loss\n",
    "    y = np.zeros(4)\n",
    "    y[0] = row0 / POKE_DIM           # Top left\n",
    "    y[1] = col0 / POKE_DIM           # Top left\n",
    "    y[2] = (row1 - row0) / POKE_DIM  # Height\n",
    "    y[3] = (col1 - col0) / POKE_DIM  # Width\n",
    "\n",
    "    # Draw the box\n",
    "    row0 = int(p[0] * POKE_DIM)\n",
    "    col0 = int(p[1] * POKE_DIM)\n",
    "    row1 = int(row0 + p[2] * POKE_DIM)\n",
    "    col1 = int(col0 + p[3] * POKE_DIM)\n",
    "    \n",
    "    print(f'Pred: {(row0, col0, row1, col1)}')\n",
    "    print(f'Loss: {-np.mean(y * np.log(p) + (1 - y) * np.log(1 - p))}')\n",
    "    \n",
    "    fig, ax = plt.subplots(1)\n",
    "    ax.imshow(x.astype(np.unit8))   \n",
    "    # Top left, Width, Height\n",
    "    rect = Rectangle((p[1] * POKE_DIM, p[0] * POKE_DIM), p[3] * POKE_DIM, p[2] * POKE_DIM, \n",
    "                        linewidth=1, edgecolor='r', facecolor='none')\n",
    "    ax.add_patch(rect)\n",
    "    plt.show()"
   ]
  },
  {
   "cell_type": "code",
   "execution_count": null,
   "metadata": {},
   "outputs": [],
   "source": [
    "make_predictions_with_resize()"
   ]
  },
  {
   "cell_type": "markdown",
   "metadata": {},
   "source": [
    "# FLIPPED OBJECTS"
   ]
  },
  {
   "cell_type": "code",
   "execution_count": null,
   "metadata": {},
   "outputs": [],
   "source": [
    "POKE_DIM      = 200 # Size of image \n",
    "ch            = np.array(ch)\n",
    "CH_H, CH_W, _ = ch.shape\n",
    "\n",
    "def pokemon_generator_flip(batch_size=64):\n",
    "    # Generate image and targets\n",
    "    while True:\n",
    "        # Each epoch will have 50 batches\n",
    "        for _ in range(50):\n",
    "            X = np.zeros(shape=(batch_size, POKE_DIM, POKE_DIM, 3))\n",
    "            Y = np.zeros(shape=(batch_size, 4))\n",
    "            \n",
    "            # Make the boxes and store their location in target\n",
    "            for i in range(batch_size):\n",
    "                row0 = np.random.randint(POKE_DIM - CH_H)\n",
    "                col0 = np.random.randint(POKE_DIM - CH_W)\n",
    "                row1 = row0 + CH_H\n",
    "                col1 = col0 + CH_W\n",
    "                \n",
    "                # Maybe flip\n",
    "                if (np.random.random() < 0.5):\n",
    "                    obj = np.fliplr(ch)\n",
    "                else:\n",
    "                    obj = ch\n",
    "                \n",
    "                # Images\n",
    "                X[i, row0:row1, col0:col1, :] = obj[:, :, :3]\n",
    "                \n",
    "                # Targets\n",
    "                Y[i, 0] = row0 / POKE_DIM           # Top left\n",
    "                Y[i, 1] = col0 / POKE_DIM           # Top left\n",
    "                Y[i, 2] = (row1 - row0) / POKE_DIM  # Height\n",
    "                Y[i, 3] = (col1 - col0) / POKE_DIM  # Width\n",
    "            \n",
    "            yield X / 255., Y"
   ]
  },
  {
   "cell_type": "code",
   "execution_count": null,
   "metadata": {},
   "outputs": [],
   "source": [
    "def make_model():\n",
    "    vgg   = tf.keras.applications.VGG16(input_shape=[POKE_DIM, POKE_DIM, 3],\n",
    "                                        include_top=False, weights='imagenet')\n",
    "    x     = Flatten()(vgg.output)\n",
    "    x     = Dense(units=4, activation='sigmoid')(x)\n",
    "    model = Model(vgg.input, x)\n",
    "    model.compile(loss='binary_crossentropy', optimizer=Adam(learning_rate=0.0001))\n",
    "    \n",
    "    return model\n",
    "\n",
    "model = make_model()\n",
    "model.fit(x=pokemon_generator_flip(), steps_per_epoch=50, epochs=5)"
   ]
  },
  {
   "cell_type": "code",
   "execution_count": null,
   "metadata": {},
   "outputs": [],
   "source": [
    "from matplotlib.patches import Rectangle\n",
    "\n",
    "# Make predictions\n",
    "def make_predictions_flip():\n",
    "    # Generate a random image\n",
    "    x    = np.zeros(shape=(POKE_DIM, POKE_DIM, 3))\n",
    "    row0 = np.random.randint(POKE_DIM - CH_H)\n",
    "    col0 = np.random.randint(POKE_DIM - CH_W)\n",
    "    row1 = row0 + CH_H\n",
    "    col1 = col0 + CH_W\n",
    "    \n",
    "    # Maybe flip\n",
    "    if (np.random.random() < 0.5):\n",
    "        obj = np.fliplr(ch)\n",
    "    else:\n",
    "        obj = ch\n",
    "    \n",
    "    x[row0:row1, col0:col1, :] = obj[:, :, :3]\n",
    "    \n",
    "    # Predict\n",
    "    X = np.expand_dims(x, 0) / 255.\n",
    "    p = model.predict(X)[0]\n",
    "    \n",
    "    # Calculate target/loss\n",
    "    y = np.zeros(4)\n",
    "    y[0] = row0 / POKE_DIM           # Top left\n",
    "    y[1] = col0 / POKE_DIM           # Top left\n",
    "    y[2] = (row1 - row0) / POKE_DIM  # Height\n",
    "    y[3] = (col1 - col0) / POKE_DIM  # Width\n",
    "\n",
    "    # Draw the box\n",
    "    row0 = int(p[0] * POKE_DIM)\n",
    "    col0 = int(p[1] * POKE_DIM)\n",
    "    row1 = int(row0 + p[2] * POKE_DIM)\n",
    "    col1 = int(col0 + p[3] * POKE_DIM)\n",
    "    \n",
    "    print(f'Pred: {(row0, col0, row1, col1)}')\n",
    "    print(f'Loss: {-np.mean(y * np.log(p) + (1 - y) * np.log(1 - p))}')\n",
    "    \n",
    "    fig, ax = plt.subplots(1)\n",
    "    ax.imshow(x.astype(np.unit8))   \n",
    "    # Top left, Width, Height\n",
    "    rect = Rectangle((p[1] * POKE_DIM, p[0] * POKE_DIM), p[3] * POKE_DIM, p[2] * POKE_DIM, \n",
    "                        linewidth=1, edgecolor='r', facecolor='none')\n",
    "    ax.add_patch(rect)\n",
    "    plt.show()"
   ]
  },
  {
   "cell_type": "code",
   "execution_count": null,
   "metadata": {},
   "outputs": [],
   "source": [
    "make_predictions_flip()"
   ]
  },
  {
   "cell_type": "markdown",
   "metadata": {},
   "source": [
    "# ADD ACTUAL BACKGROUND"
   ]
  },
  {
   "cell_type": "code",
   "execution_count": null,
   "metadata": {},
   "outputs": [],
   "source": [
    "# !wget -nc https://lazyprogrammer.me/course_files/backgrounds.zip\n",
    "# !unzip -n backgrounds.zip"
   ]
  },
  {
   "cell_type": "code",
   "execution_count": null,
   "metadata": {},
   "outputs": [],
   "source": [
    "from glob import glob\n",
    "backgrounds = []\n",
    "\n",
    "background_files = glob(r'C:\\Users\\Doan Trong Hieu\\Downloads\\IMPORTANT\\SPECIALIZATION\\Artificial_Intelligence\\COMPUTER VISION\\CODING_COMPUTER_VISION\\UDM_Lazy_Programmer_Inc_De_Le_Ad_Co_Vi\\backgrounds\\*.jpg')\n",
    "for f in background_files:\n",
    "    # They may not all be the same size\n",
    "    bg = np.array(image.load_img(f))\n",
    "    backgrounds.append(bg)"
   ]
  },
  {
   "cell_type": "code",
   "execution_count": null,
   "metadata": {},
   "outputs": [],
   "source": [
    "plt.imshow(backgrounds[3])"
   ]
  },
  {
   "cell_type": "code",
   "execution_count": null,
   "metadata": {},
   "outputs": [],
   "source": [
    "def pokemon_generator_bg(batch_size=64):\n",
    "    # Generate image and targets\n",
    "    while True:\n",
    "        # Each epoch will have 50 batches\n",
    "        for _ in range(50):\n",
    "            X = np.zeros(shape=(batch_size, POKE_DIM, POKE_DIM, 3))\n",
    "            Y = np.zeros(shape=(batch_size, 4))\n",
    "            \n",
    "            # Make the boxes and store their location in target\n",
    "            for i in range(batch_size):\n",
    "                # Select a random background\n",
    "                bg_idx        = np.random.choice(len(backgrounds))\n",
    "                bg            = backgrounds[bg_idx]\n",
    "                bg_h, bg_w, _ = bg.shape\n",
    "                rnd_h         = np.random.randint(bg_h - POKE_DIM)\n",
    "                rnd_w         = np.random.randint(bg_w - POKE_DIM)\n",
    "                X[i]          = bg[rnd_h:rnd_h+POKE_DIM, rnd_w:rnd_w+POKE_DIM].copy()\n",
    "                \n",
    "                # Resize - Bigger of Smaller\n",
    "                scale = 0.5 + np.random.random() # [0.5 -> 1.5]\n",
    "                new_height = int(CH_H * scale)\n",
    "                new_width  = int(CH_W * scale)\n",
    "                obj = resize(image=ch, output_shape=(new_height, new_width),\n",
    "                            preserve_range=True).astype(np.uint8) # Keep 0 -> 255\n",
    "                \n",
    "                # Maybe flip\n",
    "                if (np.random.random() < 0.5):\n",
    "                    obj = np.fliplr(obj)\n",
    "                \n",
    "                # Choose a random location to store the object\n",
    "                row0       = np.random.randint(POKE_DIM - new_height)\n",
    "                col0       = np.random.randint(POKE_DIM - new_width)\n",
    "                row1       = row0 + new_height\n",
    "                col1       = col0 + new_width\n",
    "                \n",
    "                # Can't just assign obj to a slice of X since the transparent parts will be black (0)\n",
    "                mask      = (obj[:, :, 3] == 0)                 # Find where the pokemon is 0\n",
    "                bg_slice  = X[i, row0:row1, col0:col1, :]       # Where we want to place `obj`\n",
    "                bg_slice  = np.expand_dims(mask, -1) * bg_slice # (h, w, 1) x (h, w, 3)\n",
    "                bg_slice += obj[:, :, :3]                       # `Add` the pokemon to the slice\n",
    "                X[i, row0:row1, col0:col1, :] = bg_slice        # Put the slice back\n",
    "                \n",
    "                # Targets\n",
    "                Y[i, 0] = row0 / POKE_DIM           # Top left\n",
    "                Y[i, 1] = col0 / POKE_DIM           # Top left\n",
    "                Y[i, 2] = (row1 - row0) / POKE_DIM  # Height\n",
    "                Y[i, 3] = (col1 - col0) / POKE_DIM  # Width\n",
    "            \n",
    "            yield X / 255., Y"
   ]
  },
  {
   "cell_type": "code",
   "execution_count": null,
   "metadata": {},
   "outputs": [],
   "source": [
    "xx = None\n",
    "yy = None\n",
    "for x, y in pokemon_generator_bg():\n",
    "    xx, yy = x, y\n",
    "    break\n",
    "plt.imshow(xx[5]);"
   ]
  },
  {
   "cell_type": "code",
   "execution_count": null,
   "metadata": {},
   "outputs": [],
   "source": [
    "model = make_model2()\n",
    "model.fit(pokemon_generator_bg(), steps_per_epoch=50, epochs=5)"
   ]
  },
  {
   "cell_type": "code",
   "execution_count": null,
   "metadata": {},
   "outputs": [],
   "source": [
    "from matplotlib.patches import Rectangle\n",
    "\n",
    "# Make predictions\n",
    "def make_predictions_flip():\n",
    "    # Generate a random image\n",
    "    x    = np.zeros(shape=(POKE_DIM, POKE_DIM, 3))\n",
    "    row0 = np.random.randint(POKE_DIM - CH_H)\n",
    "    col0 = np.random.randint(POKE_DIM - CH_W)\n",
    "    row1 = row0 + CH_H\n",
    "    col1 = col0 + CH_W\n",
    "    \n",
    "    # Maybe flip\n",
    "    if (np.random.random() < 0.5):\n",
    "        obj = np.fliplr(ch)\n",
    "    else:\n",
    "        obj = ch\n",
    "    \n",
    "    x[row0:row1, col0:col1, :] = obj[:, :, :3]\n",
    "    \n",
    "    # Predict\n",
    "    X = np.expand_dims(x, 0) / 255.\n",
    "    p = model.predict(X)[0]\n",
    "    \n",
    "    # Calculate target/loss\n",
    "    y = np.zeros(4)\n",
    "    y[0] = row0 / POKE_DIM           # Top left\n",
    "    y[1] = col0 / POKE_DIM           # Top left\n",
    "    y[2] = (row1 - row0) / POKE_DIM  # Height\n",
    "    y[3] = (col1 - col0) / POKE_DIM  # Width\n",
    "\n",
    "    # Draw the box\n",
    "    row0 = int(p[0] * POKE_DIM)\n",
    "    col0 = int(p[1] * POKE_DIM)\n",
    "    row1 = int(row0 + p[2] * POKE_DIM)\n",
    "    col1 = int(col0 + p[3] * POKE_DIM)\n",
    "    \n",
    "    print(f'Pred: {(row0, col0, row1, col1)}')\n",
    "    print(f'Loss: {-np.mean(y * np.log(p) + (1 - y) * np.log(1 - p))}')\n",
    "    \n",
    "    fig, ax = plt.subplots(1)\n",
    "    ax.imshow(x.astype(np.unit8))   \n",
    "    # Top left, Width, Height\n",
    "    rect = Rectangle((p[1] * POKE_DIM, p[0] * POKE_DIM), p[3] * POKE_DIM, p[2] * POKE_DIM, \n",
    "                        linewidth=1, edgecolor='r', facecolor='none')\n",
    "    ax.add_patch(rect)\n",
    "    plt.show()"
   ]
  },
  {
   "cell_type": "code",
   "execution_count": null,
   "metadata": {},
   "outputs": [],
   "source": [
    "make_predictions_flip()"
   ]
  }
 ],
 "metadata": {
  "interpreter": {
   "hash": "ee5cc6fef2d70a7e71ee3826687cbd150f18158e0b1eef11d4f4f92bb920e304"
  },
  "kernelspec": {
   "display_name": "Python 3.9.7 64-bit",
   "language": "python",
   "name": "python3"
  },
  "language_info": {
   "codemirror_mode": {
    "name": "ipython",
    "version": 3
   },
   "file_extension": ".py",
   "mimetype": "text/x-python",
   "name": "python",
   "nbconvert_exporter": "python",
   "pygments_lexer": "ipython3",
   "version": "3.9.7"
  },
  "orig_nbformat": 4
 },
 "nbformat": 4,
 "nbformat_minor": 2
}
