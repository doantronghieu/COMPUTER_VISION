{
 "cells": [
  {
   "cell_type": "markdown",
   "metadata": {},
   "source": [
    "# LIBRARIES"
   ]
  },
  {
   "cell_type": "code",
   "execution_count": 15,
   "metadata": {},
   "outputs": [],
   "source": [
    "\n",
    "import tensorflow as tf\n",
    "import numpy as np\n",
    "import matplotlib.pyplot as plt\n",
    "from tensorflow.keras.layers import Flatten, Dense\n",
    "from tensorflow.keras.models import Model\n",
    "from tensorflow.keras.optimizers import Adam, SGD\n",
    "from tensorflow.keras.preprocessing import image\n",
    "from imageio import imread"
   ]
  },
  {
   "cell_type": "markdown",
   "metadata": {},
   "source": [
    "# IDENFITY ACTUAL BOXES"
   ]
  },
  {
   "cell_type": "code",
   "execution_count": 2,
   "metadata": {},
   "outputs": [],
   "source": [
    "vgg = tf.keras.applications.VGG16(input_shape=[100, 100, 3], include_top=False, weights='imagenet')"
   ]
  },
  {
   "cell_type": "code",
   "execution_count": 3,
   "metadata": {},
   "outputs": [],
   "source": [
    "x     = Flatten()(vgg.output)\n",
    "x     = Dense(4, activation='sigmoid')(x)\n",
    "model = Model(vgg.input, x)"
   ]
  },
  {
   "cell_type": "code",
   "execution_count": 4,
   "metadata": {},
   "outputs": [],
   "source": [
    "def image_generator(batch_size=64):\n",
    "    # Generate image and targets\n",
    "    while True:\n",
    "        # Each epoch will have 50 batches\n",
    "        for _ in range(50):\n",
    "            X = np.zeros(shape=(batch_size, 100, 100, 3))\n",
    "            Y = np.zeros(shape=(batch_size, 4))\n",
    "            \n",
    "            # Make the boxes and store their location in target\n",
    "            for i in range(batch_size):\n",
    "                row0 = np.random.randint(90)\n",
    "                col0 = np.random.randint(90)\n",
    "                row1 = np.random.randint(low=row0, high=100)\n",
    "                col1 = np.random.randint(low=col0, high=100)\n",
    "                # Images\n",
    "                X[i, row0:row1, col0:col1, :] = 1\n",
    "                # Targets\n",
    "                Y[i, 0] = row0 / 100.           # Top left\n",
    "                Y[i, 1] = col0 / 100.           # Top left\n",
    "                Y[i, 2] = (row1 - row0) / 100.  # Height\n",
    "                Y[i, 3] = (col1 - col0) / 100.  # Width\n",
    "            \n",
    "            yield X, Y"
   ]
  },
  {
   "cell_type": "code",
   "execution_count": 5,
   "metadata": {},
   "outputs": [
    {
     "name": "stderr",
     "output_type": "stream",
     "text": [
      "C:\\Users\\Doan Trong Hieu\\AppData\\Roaming\\Python\\Python39\\site-packages\\keras\\optimizer_v2\\adam.py:105: UserWarning: The `lr` argument is deprecated, use `learning_rate` instead.\n",
      "  super(Adam, self).__init__(name, **kwargs)\n"
     ]
    },
    {
     "name": "stdout",
     "output_type": "stream",
     "text": [
      "Epoch 1/5\n",
      "50/50 [==============================] - 307s 6s/step - loss: 0.6256\n",
      "Epoch 2/5\n",
      "50/50 [==============================] - 329s 7s/step - loss: 0.5171\n",
      "Epoch 3/5\n",
      "50/50 [==============================] - 300s 6s/step - loss: 0.5085\n",
      "Epoch 4/5\n",
      "50/50 [==============================] - 273s 5s/step - loss: 0.5071\n",
      "Epoch 5/5\n",
      "50/50 [==============================] - 279s 6s/step - loss: 0.5040\n"
     ]
    },
    {
     "data": {
      "text/plain": [
       "<keras.callbacks.History at 0x2618899ed90>"
      ]
     },
     "execution_count": 5,
     "metadata": {},
     "output_type": "execute_result"
    }
   ],
   "source": [
    "model.compile(loss='binary_crossentropy', optimizer=Adam(lr=0.001))\n",
    "model.fit(x=image_generator(), steps_per_epoch=50, epochs=5)"
   ]
  },
  {
   "cell_type": "code",
   "execution_count": 7,
   "metadata": {},
   "outputs": [],
   "source": [
    "from matplotlib.patches import Rectangle\n",
    "\n",
    "# Make predictions\n",
    "def make_predictions():\n",
    "    # Generate a random image\n",
    "    x    = np.zeros(shape=(100, 100, 3))\n",
    "    row0 = np.random.randint(90)\n",
    "    col0 = np.random.randint(90)\n",
    "    row1 = np.random.randint(low=row0, high=100)\n",
    "    col1 = np.random.randint(low=col0, high=100)\n",
    "    x[row0:row1, col0:col1, :] = 1\n",
    "    print(row0, col0, row1, col1)\n",
    "    \n",
    "    # Predict\n",
    "    X = np.expand_dims(x, 0)\n",
    "    p = model.predict(X)[0]\n",
    "    \n",
    "    # Draw the box\n",
    "    fig, ax = plt.subplots(1)\n",
    "    ax.imshow(x)\n",
    "    # Top left, Width, Height\n",
    "    rect = Rectangle((p[1] * 100, p[0] * 100), p[3] * 100, p[2] * 100, linewidth=1, edgecolor='r', facecolor='none')\n",
    "    ax.add_patch(rect)\n",
    "    plt.show()"
   ]
  },
  {
   "cell_type": "code",
   "execution_count": 8,
   "metadata": {},
   "outputs": [
    {
     "name": "stdout",
     "output_type": "stream",
     "text": [
      "59 59 95 96\n"
     ]
    },
    {
     "data": {
      "image/png": "[encoded data removed]",
      "text/plain": [
       "<Figure size 432x288 with 1 Axes>"
      ]
     },
     "metadata": {
      "needs_background": "light"
     },
     "output_type": "display_data"
    }
   ],
   "source": [
    "make_predictions()"
   ]
  },
  {
   "cell_type": "markdown",
   "metadata": {},
   "source": [
    "# LOCATE AN ACTUAL OBJECT"
   ]
  },
  {
   "cell_type": "code",
   "execution_count": 12,
   "metadata": {},
   "outputs": [],
   "source": [
    "# !wget -nc https://lazyprogrammer.me/course_files/charmander-tight.png"
   ]
  },
  {
   "cell_type": "code",
   "execution_count": 13,
   "metadata": {},
   "outputs": [
    {
     "data": {
      "image/png": "[encoded data removed]",
      "text/plain": [
       "<Figure size 432x288 with 1 Axes>"
      ]
     },
     "metadata": {
      "needs_background": "light"
     },
     "output_type": "display_data"
    }
   ],
   "source": [
    "ch = image.load_img('charmander-tight.png')\n",
    "plt.imshow(ch)\n",
    "plt.show()"
   ]
  },
  {
   "cell_type": "code",
   "execution_count": 14,
   "metadata": {},
   "outputs": [
    {
     "data": {
      "text/plain": [
       "(56, 44, 3)"
      ]
     },
     "execution_count": 14,
     "metadata": {},
     "output_type": "execute_result"
    }
   ],
   "source": [
    "np.array(ch).shape"
   ]
  },
  {
   "cell_type": "code",
   "execution_count": 18,
   "metadata": {},
   "outputs": [
    {
     "name": "stdout",
     "output_type": "stream",
     "text": [
      "<class 'imageio.core.util.Array'>\n",
      "(56, 44, 4)\n"
     ]
    },
    {
     "data": {
      "image/png": "[encoded data removed]",
      "text/plain": [
       "<Figure size 432x288 with 1 Axes>"
      ]
     },
     "metadata": {
      "needs_background": "light"
     },
     "output_type": "display_data"
    }
   ],
   "source": [
    "ch = imread('charmander-tight.png')\n",
    "plt.imshow(ch)\n",
    "print(type(ch))\n",
    "print(ch.shape)"
   ]
  },
  {
   "cell_type": "code",
   "execution_count": 19,
   "metadata": {},
   "outputs": [
    {
     "data": {
      "image/png": "[encoded data removed]",
      "text/plain": [
       "<Figure size 432x288 with 1 Axes>"
      ]
     },
     "metadata": {
      "needs_background": "light"
     },
     "output_type": "display_data"
    }
   ],
   "source": [
    "# Plot the alpha channel\n",
    "plt.imshow(ch[:, :, 3])\n",
    "plt.show()"
   ]
  },
  {
   "cell_type": "code",
   "execution_count": 20,
   "metadata": {},
   "outputs": [
    {
     "data": {
      "image/png": "[encoded data removed]",
      "text/plain": [
       "<Figure size 432x288 with 1 Axes>"
      ]
     },
     "metadata": {
      "needs_background": "light"
     },
     "output_type": "display_data"
    },
    {
     "data": {
      "text/plain": [
       "{0, 255}"
      ]
     },
     "execution_count": 20,
     "metadata": {},
     "output_type": "execute_result"
    }
   ],
   "source": [
    "plt.hist(ch[:, :, 3].flatten())\n",
    "plt.show()\n",
    "set(ch[:, :, 3].flatten())"
   ]
  },
  {
   "cell_type": "code",
   "execution_count": 23,
   "metadata": {},
   "outputs": [],
   "source": [
    "POKE_DIM      = 200 # Size of image \n",
    "ch            = np.array(ch)\n",
    "CH_H, CH_W, _ = ch.shape\n",
    "\n",
    "def pokemon_generator(batch_size=64):\n",
    "    # Generate image and targets\n",
    "    while True:\n",
    "        # Each epoch will have 50 batches\n",
    "        for _ in range(50):\n",
    "            X = np.zeros(shape=(batch_size, POKE_DIM, POKE_DIM, 3))\n",
    "            Y = np.zeros(shape=(batch_size, 4))\n",
    "            \n",
    "            # Make the boxes and store their location in target\n",
    "            for i in range(batch_size):\n",
    "                row0 = np.random.randint(POKE_DIM - CH_H)\n",
    "                col0 = np.random.randint(POKE_DIM - CH_W)\n",
    "                row1 = row0 + CH_H\n",
    "                col1 = col0 + CH_W\n",
    "                # Images\n",
    "                X[i, row0:row1, col0:col1, :] = ch[:, :, :3]\n",
    "                # Targets\n",
    "                Y[i, 0] = row0 / POKE_DIM           # Top left\n",
    "                Y[i, 1] = col0 / POKE_DIM           # Top left\n",
    "                Y[i, 2] = (row1 - row0) / POKE_DIM  # Height\n",
    "                Y[i, 3] = (col1 - col0) / POKE_DIM  # Width\n",
    "            \n",
    "            yield X / 255., Y"
   ]
  },
  {
   "cell_type": "code",
   "execution_count": null,
   "metadata": {},
   "outputs": [
    {
     "name": "stdout",
     "output_type": "stream",
     "text": [
      "Epoch 1/5\n",
      "41/50 [=======================>......] - ETA: 3:31 - loss: 0.6819"
     ]
    }
   ],
   "source": [
    "def make_model():\n",
    "    vgg   = tf.keras.applications.VGG16(input_shape=[POKE_DIM, POKE_DIM, 3],\n",
    "                                        include_top=False, weights='imagenet')\n",
    "    x     = Flatten()(vgg.output)\n",
    "    x     = Dense(units=4, activation='sigmoid')(x)\n",
    "    model = Model(vgg.input, x)\n",
    "    model.compile(loss='binary_crossentropy', optimizer=Adam(learning_rate=0.001))\n",
    "    \n",
    "    return model\n",
    "\n",
    "model = make_model()\n",
    "model.fit(x=pokemon_generator(), steps_per_epoch=50, epochs=5)"
   ]
  },
  {
   "cell_type": "code",
   "execution_count": null,
   "metadata": {},
   "outputs": [],
   "source": [
    "from matplotlib.patches import Rectangle\n",
    "\n",
    "# Make predictions\n",
    "def make_predictions():\n",
    "    # Generate a random image\n",
    "    x    = np.zeros(shape=(POKE_DIM, POKE_DIM, 3))\n",
    "    row0 = np.random.randint(POKE_DIM - CH_H)\n",
    "    col0 = np.random.randint(POKE_DIM - CH_W)\n",
    "    row1 = row0 + CH_H\n",
    "    col1 = col0 + CH_W\n",
    "    x[row0:row1, col0:col1, :] = ch[:, :, :3]\n",
    "    \n",
    "    # Predict\n",
    "    X = np.expand_dims(x, 0) / 255.\n",
    "    p = model.predict(X)[0]\n",
    "    \n",
    "    # Calculate target/loss\n",
    "    y = np.zeros(4)\n",
    "    y[0] = row0 / POKE_DIM           # Top left\n",
    "    y[1] = col0 / POKE_DIM           # Top left\n",
    "    y[2] = (row1 - row0) / POKE_DIM  # Height\n",
    "    y[3] = (col1 - col0) / POKE_DIM  # Width\n",
    "\n",
    "    # Draw the box\n",
    "    row0 = int(p[0] * POKE_DIM)\n",
    "    col0 = int(p[1] * POKE_DIM)\n",
    "    row1 = int(row0 + p[2] * POKE_DIM)\n",
    "    col1 = int(col0 + p[3] * POKE_DIM)\n",
    "    \n",
    "    print(f'Pred: {(row0, col0, row1, col1)}')\n",
    "    print(f'Loss: {-np.mean(y * np.log(p) + (1 - y) * np.log(1 - p))}')\n",
    "    \n",
    "    fig, ax = plt.subplots(1)\n",
    "    ax.imshow(x.astype(np.unit8))   \n",
    "    # Top left, Width, Height\n",
    "    rect = Rectangle((p[1] * POKE_DIM, p[0] * POKE_DIM), p[3] * POKE_DIM, p[2] * POKE_DIM, \n",
    "                        linewidth=1, edgecolor='r', facecolor='none')\n",
    "    ax.add_patch(rect)\n",
    "    plt.show()"
   ]
  },
  {
   "cell_type": "code",
   "execution_count": null,
   "metadata": {},
   "outputs": [],
   "source": [
    "make_predictions()"
   ]
  }
 ],
 "metadata": {
  "interpreter": {
   "hash": "ee5cc6fef2d70a7e71ee3826687cbd150f18158e0b1eef11d4f4f92bb920e304"
  },
  "kernelspec": {
   "display_name": "Python 3.9.7 64-bit",
   "language": "python",
   "name": "python3"
  },
  "language_info": {
   "codemirror_mode": {
    "name": "ipython",
    "version": 3
   },
   "file_extension": ".py",
   "mimetype": "text/x-python",
   "name": "python",
   "nbconvert_exporter": "python",
   "pygments_lexer": "ipython3",
   "version": "3.9.7"
  },
  "orig_nbformat": 4
 },
 "nbformat": 4,
 "nbformat_minor": 2
}
